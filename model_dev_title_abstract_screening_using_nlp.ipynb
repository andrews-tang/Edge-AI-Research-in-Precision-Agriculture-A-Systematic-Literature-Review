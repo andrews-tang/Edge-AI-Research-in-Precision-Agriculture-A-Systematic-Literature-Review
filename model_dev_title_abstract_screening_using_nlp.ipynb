{
 "cells": [
  {
   "cell_type": "code",
   "execution_count": 1,
   "id": "5bca7405-22dc-43a1-b3c4-5aaf7b4059b1",
   "metadata": {},
   "outputs": [],
   "source": [
    "import os\n",
    "import re\n",
    "import torch\n",
    "import random\n",
    "import numpy as np\n",
    "import pandas as pd\n",
    "from tqdm import tqdm\n",
    "from sklearn.model_selection import train_test_split\n",
    "from torch.utils.data import DataLoader\n",
    "from torch.optim import AdamW\n",
    "from transformers import get_scheduler\n",
    "from transformers import DistilBertTokenizer, DistilBertForSequenceClassification\n",
    "import bibtexparser\n",
    "from bibtexparser.bparser import BibTexParser"
   ]
  },
  {
   "cell_type": "code",
   "execution_count": 2,
   "id": "fb62d2e0-47e7-49a0-96aa-347aee8f387b",
   "metadata": {},
   "outputs": [],
   "source": [
    "saved_model_dir = \"./SavedModels/\""
   ]
  },
  {
   "cell_type": "code",
   "execution_count": 3,
   "id": "18300004-3972-4573-918e-7bb4461d7eae",
   "metadata": {},
   "outputs": [],
   "source": [
    "train_val_dataset = pd.read_csv(\"./data/title_abstract_train_val_dataset.csv\")\n",
    "eval_dataset = pd.read_csv(\"./data/title_abstract_eval_dataset.csv\")"
   ]
  },
  {
   "cell_type": "code",
   "execution_count": 4,
   "id": "583e23fa-ee76-47e9-89c0-9b286f1eb74e",
   "metadata": {},
   "outputs": [
    {
     "data": {
      "text/html": [
       "<div>\n",
       "<style scoped>\n",
       "    .dataframe tbody tr th:only-of-type {\n",
       "        vertical-align: middle;\n",
       "    }\n",
       "\n",
       "    .dataframe tbody tr th {\n",
       "        vertical-align: top;\n",
       "    }\n",
       "\n",
       "    .dataframe thead th {\n",
       "        text-align: right;\n",
       "    }\n",
       "</style>\n",
       "<table border=\"1\" class=\"dataframe\">\n",
       "  <thead>\n",
       "    <tr style=\"text-align: right;\">\n",
       "      <th></th>\n",
       "      <th>Title_and_Abstract</th>\n",
       "      <th>Accepted_for_Full_Text</th>\n",
       "    </tr>\n",
       "  </thead>\n",
       "  <tbody>\n",
       "    <tr>\n",
       "      <th>990</th>\n",
       "      <td>Guest Editorial: An End-to-End Machine Learnin...</td>\n",
       "      <td>0</td>\n",
       "    </tr>\n",
       "    <tr>\n",
       "      <th>991</th>\n",
       "      <td>Guest Editorial Special Issue on Privacy and S...</td>\n",
       "      <td>0</td>\n",
       "    </tr>\n",
       "    <tr>\n",
       "      <th>992</th>\n",
       "      <td>Guest Editorial Special Issue on Emerging Tren...</td>\n",
       "      <td>0</td>\n",
       "    </tr>\n",
       "    <tr>\n",
       "      <th>993</th>\n",
       "      <td>Guest Editorial Special Issue on Advanced Cogn...</td>\n",
       "      <td>0</td>\n",
       "    </tr>\n",
       "    <tr>\n",
       "      <th>994</th>\n",
       "      <td>Enhancing Smart Agriculture Scenarios with Low...</td>\n",
       "      <td>1</td>\n",
       "    </tr>\n",
       "    <tr>\n",
       "      <th>995</th>\n",
       "      <td>High Voltage Discharge Exhibits Severe Effect ...</td>\n",
       "      <td>0</td>\n",
       "    </tr>\n",
       "    <tr>\n",
       "      <th>996</th>\n",
       "      <td>Heterogeneous GNN-RL-Based Task Offloading for...</td>\n",
       "      <td>1</td>\n",
       "    </tr>\n",
       "    <tr>\n",
       "      <th>997</th>\n",
       "      <td>Optimized Data Fusion With Scheduled Rest Peri...</td>\n",
       "      <td>0</td>\n",
       "    </tr>\n",
       "    <tr>\n",
       "      <th>998</th>\n",
       "      <td>FarmEdge: A Unified Edge Computing Framework E...</td>\n",
       "      <td>1</td>\n",
       "    </tr>\n",
       "    <tr>\n",
       "      <th>999</th>\n",
       "      <td>5G Network: Architecture, Protocols, Challenge...</td>\n",
       "      <td>0</td>\n",
       "    </tr>\n",
       "  </tbody>\n",
       "</table>\n",
       "</div>"
      ],
      "text/plain": [
       "                                    Title_and_Abstract  Accepted_for_Full_Text\n",
       "990  Guest Editorial: An End-to-End Machine Learnin...                       0\n",
       "991  Guest Editorial Special Issue on Privacy and S...                       0\n",
       "992  Guest Editorial Special Issue on Emerging Tren...                       0\n",
       "993  Guest Editorial Special Issue on Advanced Cogn...                       0\n",
       "994  Enhancing Smart Agriculture Scenarios with Low...                       1\n",
       "995  High Voltage Discharge Exhibits Severe Effect ...                       0\n",
       "996  Heterogeneous GNN-RL-Based Task Offloading for...                       1\n",
       "997  Optimized Data Fusion With Scheduled Rest Peri...                       0\n",
       "998  FarmEdge: A Unified Edge Computing Framework E...                       1\n",
       "999  5G Network: Architecture, Protocols, Challenge...                       0"
      ]
     },
     "execution_count": 4,
     "metadata": {},
     "output_type": "execute_result"
    }
   ],
   "source": [
    "train_val_dataset.tail(10)"
   ]
  },
  {
   "cell_type": "code",
   "execution_count": 5,
   "id": "be8bb523-86a3-4310-9201-efb2c564421c",
   "metadata": {},
   "outputs": [
    {
     "data": {
      "text/html": [
       "<div>\n",
       "<style scoped>\n",
       "    .dataframe tbody tr th:only-of-type {\n",
       "        vertical-align: middle;\n",
       "    }\n",
       "\n",
       "    .dataframe tbody tr th {\n",
       "        vertical-align: top;\n",
       "    }\n",
       "\n",
       "    .dataframe thead th {\n",
       "        text-align: right;\n",
       "    }\n",
       "</style>\n",
       "<table border=\"1\" class=\"dataframe\">\n",
       "  <thead>\n",
       "    <tr style=\"text-align: right;\">\n",
       "      <th></th>\n",
       "      <th>Title_and_Abstract</th>\n",
       "      <th>Accepted_for_Full_Text</th>\n",
       "    </tr>\n",
       "  </thead>\n",
       "  <tbody>\n",
       "    <tr>\n",
       "      <th>0</th>\n",
       "      <td>Influence of artificial intelligence (AI) on f...</td>\n",
       "      <td>0</td>\n",
       "    </tr>\n",
       "    <tr>\n",
       "      <th>1</th>\n",
       "      <td>Software engineering approaches for tinyml bas...</td>\n",
       "      <td>0</td>\n",
       "    </tr>\n",
       "    <tr>\n",
       "      <th>2</th>\n",
       "      <td>Artificial intelligence in practice: how 50 su...</td>\n",
       "      <td>0</td>\n",
       "    </tr>\n",
       "    <tr>\n",
       "      <th>3</th>\n",
       "      <td>Industry 4.0: Industrial internet of things (I...</td>\n",
       "      <td>0</td>\n",
       "    </tr>\n",
       "    <tr>\n",
       "      <th>4</th>\n",
       "      <td>Artificial intelligence and biological misuse:...</td>\n",
       "      <td>0</td>\n",
       "    </tr>\n",
       "  </tbody>\n",
       "</table>\n",
       "</div>"
      ],
      "text/plain": [
       "                                  Title_and_Abstract  Accepted_for_Full_Text\n",
       "0  Influence of artificial intelligence (AI) on f...                       0\n",
       "1  Software engineering approaches for tinyml bas...                       0\n",
       "2  Artificial intelligence in practice: how 50 su...                       0\n",
       "3  Industry 4.0: Industrial internet of things (I...                       0\n",
       "4  Artificial intelligence and biological misuse:...                       0"
      ]
     },
     "execution_count": 5,
     "metadata": {},
     "output_type": "execute_result"
    }
   ],
   "source": [
    "eval_dataset.head(5)"
   ]
  },
  {
   "cell_type": "code",
   "execution_count": 6,
   "id": "1349e5ba-b8b3-47a1-8203-1bdaa1fbfcdd",
   "metadata": {},
   "outputs": [
    {
     "name": "stdout",
     "output_type": "stream",
     "text": [
      "<class 'pandas.core.frame.DataFrame'>\n",
      "RangeIndex: 1000 entries, 0 to 999\n",
      "Data columns (total 2 columns):\n",
      " #   Column                  Non-Null Count  Dtype \n",
      "---  ------                  --------------  ----- \n",
      " 0   Title_and_Abstract      996 non-null    object\n",
      " 1   Accepted_for_Full_Text  1000 non-null   int64 \n",
      "dtypes: int64(1), object(1)\n",
      "memory usage: 15.8+ KB\n"
     ]
    }
   ],
   "source": [
    "train_val_dataset.info()"
   ]
  },
  {
   "cell_type": "code",
   "execution_count": 7,
   "id": "2aa24134-50bb-4035-b813-1c6a246990c2",
   "metadata": {},
   "outputs": [],
   "source": [
    "eval_dataset.drop(\"Accepted_for_Full_Text\", axis = 1, inplace=True)"
   ]
  },
  {
   "cell_type": "code",
   "execution_count": 8,
   "id": "43b9b976-6234-47d8-a4ed-5d83e240d9c7",
   "metadata": {},
   "outputs": [
    {
     "data": {
      "text/html": [
       "<div>\n",
       "<style scoped>\n",
       "    .dataframe tbody tr th:only-of-type {\n",
       "        vertical-align: middle;\n",
       "    }\n",
       "\n",
       "    .dataframe tbody tr th {\n",
       "        vertical-align: top;\n",
       "    }\n",
       "\n",
       "    .dataframe thead th {\n",
       "        text-align: right;\n",
       "    }\n",
       "</style>\n",
       "<table border=\"1\" class=\"dataframe\">\n",
       "  <thead>\n",
       "    <tr style=\"text-align: right;\">\n",
       "      <th></th>\n",
       "      <th>Title_and_Abstract</th>\n",
       "    </tr>\n",
       "  </thead>\n",
       "  <tbody>\n",
       "    <tr>\n",
       "      <th>0</th>\n",
       "      <td>Influence of artificial intelligence (AI) on f...</td>\n",
       "    </tr>\n",
       "    <tr>\n",
       "      <th>1</th>\n",
       "      <td>Software engineering approaches for tinyml bas...</td>\n",
       "    </tr>\n",
       "    <tr>\n",
       "      <th>2</th>\n",
       "      <td>Artificial intelligence in practice: how 50 su...</td>\n",
       "    </tr>\n",
       "    <tr>\n",
       "      <th>3</th>\n",
       "      <td>Industry 4.0: Industrial internet of things (I...</td>\n",
       "    </tr>\n",
       "    <tr>\n",
       "      <th>4</th>\n",
       "      <td>Artificial intelligence and biological misuse:...</td>\n",
       "    </tr>\n",
       "    <tr>\n",
       "      <th>...</th>\n",
       "      <td>...</td>\n",
       "    </tr>\n",
       "    <tr>\n",
       "      <th>10498</th>\n",
       "      <td>Wireless Sensor Network Based Greenhouse Monit...</td>\n",
       "    </tr>\n",
       "    <tr>\n",
       "      <th>10499</th>\n",
       "      <td>agroString 2.0: A Distributed-Ledger based Sma...</td>\n",
       "    </tr>\n",
       "    <tr>\n",
       "      <th>10500</th>\n",
       "      <td>Performance of Routing Protocol for Low-Power ...</td>\n",
       "    </tr>\n",
       "    <tr>\n",
       "      <th>10501</th>\n",
       "      <td>Churn-Tolerant Leader Election Protocols</td>\n",
       "    </tr>\n",
       "    <tr>\n",
       "      <th>10502</th>\n",
       "      <td>Holistic Technologies for Managing Internet of...</td>\n",
       "    </tr>\n",
       "  </tbody>\n",
       "</table>\n",
       "<p>10503 rows × 1 columns</p>\n",
       "</div>"
      ],
      "text/plain": [
       "                                      Title_and_Abstract\n",
       "0      Influence of artificial intelligence (AI) on f...\n",
       "1      Software engineering approaches for tinyml bas...\n",
       "2      Artificial intelligence in practice: how 50 su...\n",
       "3      Industry 4.0: Industrial internet of things (I...\n",
       "4      Artificial intelligence and biological misuse:...\n",
       "...                                                  ...\n",
       "10498  Wireless Sensor Network Based Greenhouse Monit...\n",
       "10499  agroString 2.0: A Distributed-Ledger based Sma...\n",
       "10500  Performance of Routing Protocol for Low-Power ...\n",
       "10501           Churn-Tolerant Leader Election Protocols\n",
       "10502  Holistic Technologies for Managing Internet of...\n",
       "\n",
       "[10503 rows x 1 columns]"
      ]
     },
     "execution_count": 8,
     "metadata": {},
     "output_type": "execute_result"
    }
   ],
   "source": [
    "eval_dataset"
   ]
  },
  {
   "cell_type": "code",
   "execution_count": 9,
   "id": "04344038-0640-49e7-85ea-7902a0bba4f4",
   "metadata": {},
   "outputs": [
    {
     "data": {
      "text/plain": [
       "((800, 2), (200, 2))"
      ]
     },
     "execution_count": 9,
     "metadata": {},
     "output_type": "execute_result"
    }
   ],
   "source": [
    "train_data, val_data = train_test_split(train_val_dataset, test_size=0.2, random_state=42)\n",
    "train_data.shape, val_data.shape"
   ]
  },
  {
   "cell_type": "code",
   "execution_count": 10,
   "id": "c0377ef2-d7ce-4453-a4dd-0f7448f05fdf",
   "metadata": {},
   "outputs": [],
   "source": [
    "tokenizer = DistilBertTokenizer.from_pretrained('distilbert-base-uncased')"
   ]
  },
  {
   "cell_type": "code",
   "execution_count": 11,
   "id": "f3b4f60b-b90e-4e21-9d69-246845c072f7",
   "metadata": {},
   "outputs": [],
   "source": [
    "train_encodings = tokenizer(train_data['Title_and_Abstract'].astype(str).tolist(), truncation=True, padding=True, max_length=512)\n",
    "val_encodings = tokenizer(val_data['Title_and_Abstract'].astype(str).tolist(), truncation=True, padding=True, max_length=512)\n",
    "test_encodings = tokenizer(eval_dataset['Title_and_Abstract'].astype(str).tolist(), truncation=True, padding=True, max_length=512)"
   ]
  },
  {
   "cell_type": "code",
   "execution_count": 12,
   "id": "0a9b35f7-1dd8-48cf-957f-5ee80b5646fd",
   "metadata": {},
   "outputs": [],
   "source": [
    "class TrainValDataset(torch.utils.data.Dataset):\n",
    "    def __init__(self, encodings, labels):\n",
    "        self.encodings = encodings\n",
    "        self.labels = labels\n",
    "\n",
    "    def __getitem__(self, idx):\n",
    "        item = {key: torch.tensor(val[idx]) for key, val in self.encodings.items()}\n",
    "        item['labels'] = torch.tensor(self.labels[idx])\n",
    "        return item\n",
    "\n",
    "    def __len__(self):\n",
    "        return len(self.labels)\n",
    "\n",
    "\n",
    "\n",
    "class TestDataset(torch.utils.data.Dataset):\n",
    "    def __init__(self, encodings):\n",
    "        self.encodings = encodings\n",
    "\n",
    "    def __getitem__(self, idx):\n",
    "        return {key: torch.tensor(val[idx]) for key, val in self.encodings.items()}\n",
    "\n",
    "    def __len__(self):\n",
    "        return len(self.encodings['input_ids'])\n"
   ]
  },
  {
   "cell_type": "code",
   "execution_count": 13,
   "id": "ecdb6f97-794e-4dae-8e0f-1e36d9349086",
   "metadata": {},
   "outputs": [],
   "source": [
    "# Create the PyTorch datasets\n",
    "train_dataset = TrainValDataset(train_encodings, train_data['Accepted_for_Full_Text'].tolist())\n",
    "val_dataset = TrainValDataset(val_encodings, val_data['Accepted_for_Full_Text'].tolist())\n",
    "\n",
    "test_dataset = TestDataset(test_encodings)"
   ]
  },
  {
   "cell_type": "code",
   "execution_count": 14,
   "id": "d24c2454-5d73-48aa-b3af-d2047c13a0c3",
   "metadata": {},
   "outputs": [],
   "source": [
    "# Create DataLoaders for train, validation, and test\n",
    "train_dataloader = DataLoader(train_dataset, batch_size=16, shuffle=True, generator=torch.Generator().manual_seed(42))\n",
    "val_dataloader = DataLoader(val_dataset, batch_size=16, shuffle=False)\n",
    "test_dataloader = DataLoader(test_dataset, batch_size=16, shuffle=False)"
   ]
  },
  {
   "cell_type": "code",
   "execution_count": 15,
   "id": "a2ff0dc5-a9ba-4601-aff0-aa3f47f1e95f",
   "metadata": {},
   "outputs": [],
   "source": [
    "def set_seed(seed=42):\n",
    "    \"\"\"Set all random seeds to a fixed value and possibly disable nondeterministic algorithms.\"\"\"\n",
    "    random.seed(seed)\n",
    "    np.random.seed(seed)\n",
    "    os.environ['PYTHONHASHSEED'] = str(seed)\n",
    "    torch.manual_seed(seed)\n",
    "    torch.cuda.manual_seed(seed)\n",
    "    torch.cuda.manual_seed_all(seed)  # if using multi-GPU\n",
    "    torch.backends.cudnn.deterministic = True\n",
    "    torch.backends.cudnn.benchmark = False"
   ]
  },
  {
   "cell_type": "code",
   "execution_count": 16,
   "id": "a20eb1e2-d209-4ba1-b955-1af2000014b4",
   "metadata": {},
   "outputs": [
    {
     "name": "stderr",
     "output_type": "stream",
     "text": [
      "Some weights of DistilBertForSequenceClassification were not initialized from the model checkpoint at distilbert-base-uncased and are newly initialized: ['classifier.bias', 'classifier.weight', 'pre_classifier.bias', 'pre_classifier.weight']\n",
      "You should probably TRAIN this model on a down-stream task to be able to use it for predictions and inference.\n"
     ]
    }
   ],
   "source": [
    "set_seed()\n",
    "\n",
    "model = DistilBertForSequenceClassification.from_pretrained('distilbert-base-uncased', num_labels=2)\n",
    "\n",
    "# Choose device available\n",
    "device = torch.device(\"cuda\" if torch.cuda.is_available() else \"cpu\")\n",
    "\n",
    "optimizer = AdamW(model.parameters(), lr=5e-5)"
   ]
  },
  {
   "cell_type": "code",
   "execution_count": 17,
   "id": "baf1e21c-81a8-4422-94e6-acde908e4c5d",
   "metadata": {},
   "outputs": [],
   "source": [
    "def train_and_validate(model, train_dataloader, val_dataloader, optimizer, device, epochs=3, saved_models_path=saved_model_dir):\n",
    "    \"\"\"Train and validate the model.\n",
    "    \n",
    "    Args:\n",
    "        model (torch.nn.Module): The model to train and validate.\n",
    "        train_dataloader (DataLoader): DataLoader for training data.\n",
    "        val_dataloader (DataLoader): DataLoader for validation data.\n",
    "        optimizer (torch.optim.Optimizer): Optimizer for the model.\n",
    "        device (torch.device): Device to run the model computation.\n",
    "        epochs (int): Number of epochs to train the model.\n",
    "        saved_models_path (str): Directory path where the model will be saved.\n",
    "    \"\"\"\n",
    "    model = model.to(device)\n",
    "    best_val_accuracy = 0\n",
    "\n",
    "    # Get the model name from its class\n",
    "    model_name = model.__class__.__name__\n",
    "\n",
    "    total_steps = len(train_dataloader) * epochs\n",
    "    scheduler = get_scheduler(\n",
    "        \"linear\",\n",
    "        optimizer=optimizer,\n",
    "        num_warmup_steps=0,\n",
    "        num_training_steps=total_steps\n",
    "    )\n",
    "\n",
    "    for epoch in range(epochs):\n",
    "        # Training Phase\n",
    "        model.train()\n",
    "        total_loss = 0\n",
    "        for batch in tqdm(train_dataloader, desc=f\"Epoch {epoch + 1}/{epochs} - Training\"):\n",
    "            batch = {k: v.to(device) for k, v in batch.items()}\n",
    "            outputs = model(**batch)\n",
    "            loss = outputs.loss\n",
    "\n",
    "            optimizer.zero_grad()\n",
    "            loss.backward()\n",
    "            optimizer.step()\n",
    "            scheduler.step()\n",
    "\n",
    "            total_loss += loss.item()\n",
    "\n",
    "        avg_train_loss = total_loss / len(train_dataloader)\n",
    "        print(f\"Average training loss: {avg_train_loss:.4f}\")\n",
    "\n",
    "        # Validation Phase\n",
    "        model.eval()\n",
    "        total_val_loss = 0\n",
    "        total_correct = 0\n",
    "        total_examples = 0\n",
    "\n",
    "        with torch.no_grad():\n",
    "            for batch in tqdm(val_dataloader, desc=f\"Epoch {epoch + 1}/{epochs} - Validation\"):\n",
    "                batch = {k: v.to(device) for k, v in batch.items()}\n",
    "                outputs = model(**batch)\n",
    "                loss = outputs.loss\n",
    "                total_val_loss += loss.item()\n",
    "\n",
    "                logits = outputs.logits\n",
    "                predictions = torch.argmax(logits, dim=1)\n",
    "                total_correct += (predictions == batch['labels']).sum().item()\n",
    "                total_examples += batch['labels'].size(0)\n",
    "\n",
    "        avg_val_loss = total_val_loss / len(val_dataloader)\n",
    "        val_accuracy = total_correct / total_examples\n",
    "        print(f\"Average validation loss: {avg_val_loss:.4f}\")\n",
    "        print(f\"Validation accuracy: {val_accuracy:.4f}\")\n",
    "\n",
    "        # Save the best model\n",
    "        if val_accuracy > best_val_accuracy:\n",
    "            best_val_accuracy = val_accuracy\n",
    "            # Construct the filename for saving the model\n",
    "            save_path = os.path.join(saved_models_path, f\"{model_name}_best_model.pth\")\n",
    "            torch.save(model.state_dict(), save_path)\n",
    "            print(f\"Saved improved model at {save_path}\")"
   ]
  },
  {
   "cell_type": "code",
   "execution_count": 18,
   "id": "867dc9ba-1f11-4ab3-a0f6-7aed7ed68741",
   "metadata": {},
   "outputs": [
    {
     "name": "stderr",
     "output_type": "stream",
     "text": [
      "Epoch 1/6 - Training: 100%|██████████| 50/50 [00:24<00:00,  2.06it/s]\n"
     ]
    },
    {
     "name": "stdout",
     "output_type": "stream",
     "text": [
      "Average training loss: 0.5278\n"
     ]
    },
    {
     "name": "stderr",
     "output_type": "stream",
     "text": [
      "Epoch 1/6 - Validation: 100%|██████████| 13/13 [00:02<00:00,  6.26it/s]\n"
     ]
    },
    {
     "name": "stdout",
     "output_type": "stream",
     "text": [
      "Average validation loss: 0.4467\n",
      "Validation accuracy: 0.8050\n",
      "Saved improved model at ./SavedModels/DistilBertForSequenceClassification_best_model.pth\n"
     ]
    },
    {
     "name": "stderr",
     "output_type": "stream",
     "text": [
      "Epoch 2/6 - Training: 100%|██████████| 50/50 [00:24<00:00,  2.06it/s]\n"
     ]
    },
    {
     "name": "stdout",
     "output_type": "stream",
     "text": [
      "Average training loss: 0.3249\n"
     ]
    },
    {
     "name": "stderr",
     "output_type": "stream",
     "text": [
      "Epoch 2/6 - Validation: 100%|██████████| 13/13 [00:02<00:00,  6.20it/s]\n"
     ]
    },
    {
     "name": "stdout",
     "output_type": "stream",
     "text": [
      "Average validation loss: 0.3343\n",
      "Validation accuracy: 0.8550\n",
      "Saved improved model at ./SavedModels/DistilBertForSequenceClassification_best_model.pth\n"
     ]
    },
    {
     "name": "stderr",
     "output_type": "stream",
     "text": [
      "Epoch 3/6 - Training: 100%|██████████| 50/50 [00:24<00:00,  2.04it/s]\n"
     ]
    },
    {
     "name": "stdout",
     "output_type": "stream",
     "text": [
      "Average training loss: 0.1727\n"
     ]
    },
    {
     "name": "stderr",
     "output_type": "stream",
     "text": [
      "Epoch 3/6 - Validation: 100%|██████████| 13/13 [00:02<00:00,  6.14it/s]\n"
     ]
    },
    {
     "name": "stdout",
     "output_type": "stream",
     "text": [
      "Average validation loss: 0.4581\n",
      "Validation accuracy: 0.8450\n"
     ]
    },
    {
     "name": "stderr",
     "output_type": "stream",
     "text": [
      "Epoch 4/6 - Training: 100%|██████████| 50/50 [00:24<00:00,  2.04it/s]\n"
     ]
    },
    {
     "name": "stdout",
     "output_type": "stream",
     "text": [
      "Average training loss: 0.0929\n"
     ]
    },
    {
     "name": "stderr",
     "output_type": "stream",
     "text": [
      "Epoch 4/6 - Validation: 100%|██████████| 13/13 [00:02<00:00,  6.13it/s]\n"
     ]
    },
    {
     "name": "stdout",
     "output_type": "stream",
     "text": [
      "Average validation loss: 0.4306\n",
      "Validation accuracy: 0.8550\n"
     ]
    },
    {
     "name": "stderr",
     "output_type": "stream",
     "text": [
      "Epoch 5/6 - Training: 100%|██████████| 50/50 [00:24<00:00,  2.03it/s]\n"
     ]
    },
    {
     "name": "stdout",
     "output_type": "stream",
     "text": [
      "Average training loss: 0.0379\n"
     ]
    },
    {
     "name": "stderr",
     "output_type": "stream",
     "text": [
      "Epoch 5/6 - Validation: 100%|██████████| 13/13 [00:02<00:00,  6.13it/s]\n"
     ]
    },
    {
     "name": "stdout",
     "output_type": "stream",
     "text": [
      "Average validation loss: 0.5010\n",
      "Validation accuracy: 0.8550\n"
     ]
    },
    {
     "name": "stderr",
     "output_type": "stream",
     "text": [
      "Epoch 6/6 - Training: 100%|██████████| 50/50 [00:24<00:00,  2.04it/s]\n"
     ]
    },
    {
     "name": "stdout",
     "output_type": "stream",
     "text": [
      "Average training loss: 0.0203\n"
     ]
    },
    {
     "name": "stderr",
     "output_type": "stream",
     "text": [
      "Epoch 6/6 - Validation: 100%|██████████| 13/13 [00:02<00:00,  6.13it/s]"
     ]
    },
    {
     "name": "stdout",
     "output_type": "stream",
     "text": [
      "Average validation loss: 0.5064\n",
      "Validation accuracy: 0.8500\n"
     ]
    },
    {
     "name": "stderr",
     "output_type": "stream",
     "text": [
      "\n"
     ]
    }
   ],
   "source": [
    "train_and_validate(\n",
    "    model=model,\n",
    "    train_dataloader=train_dataloader,\n",
    "    val_dataloader=val_dataloader,\n",
    "    optimizer=optimizer,\n",
    "    device=device,\n",
    "    epochs=6\n",
    ")"
   ]
  }
 ],
 "metadata": {
  "kernelspec": {
   "display_name": "Python 3 (ipykernel)",
   "language": "python",
   "name": "python3"
  },
  "language_info": {
   "codemirror_mode": {
    "name": "ipython",
    "version": 3
   },
   "file_extension": ".py",
   "mimetype": "text/x-python",
   "name": "python",
   "nbconvert_exporter": "python",
   "pygments_lexer": "ipython3",
   "version": "3.11.8"
  }
 },
 "nbformat": 4,
 "nbformat_minor": 5
}
