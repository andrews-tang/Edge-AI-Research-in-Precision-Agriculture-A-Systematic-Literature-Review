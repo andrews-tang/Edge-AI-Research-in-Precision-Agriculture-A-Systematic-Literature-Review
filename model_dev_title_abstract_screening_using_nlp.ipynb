{
 "cells": [
  {
   "cell_type": "code",
   "execution_count": 109,
   "id": "5bca7405-22dc-43a1-b3c4-5aaf7b4059b1",
   "metadata": {},
   "outputs": [
    {
     "name": "stderr",
     "output_type": "stream",
     "text": [
      "/opt/conda/lib/python3.11/site-packages/fuzzywuzzy/fuzz.py:11: UserWarning: Using slow pure-python SequenceMatcher. Install python-Levenshtein to remove this warning\n",
      "  warnings.warn('Using slow pure-python SequenceMatcher. Install python-Levenshtein to remove this warning')\n"
     ]
    }
   ],
   "source": [
    "import os\n",
    "import re\n",
    "import torch\n",
    "import pandas as pd\n",
    "from tqdm import tqdm\n",
    "from sklearn.model_selection import train_test_split\n",
    "from torch.utils.data import DataLoader\n",
    "from torch.optim import AdamW\n",
    "from transformers import get_scheduler\n",
    "from transformers import DistilBertTokenizer, DistilBertForSequenceClassification\n",
    "from fuzzywuzzy import fuzz\n",
    "\n",
    "import bibtexparser\n",
    "from bibtexparser.bparser import BibTexParser"
   ]
  },
  {
   "cell_type": "code",
   "execution_count": 2,
   "id": "fb62d2e0-47e7-49a0-96aa-347aee8f387b",
   "metadata": {},
   "outputs": [],
   "source": [
    "saved_model_dir = \"./SavedModels/\""
   ]
  },
  {
   "cell_type": "code",
   "execution_count": 3,
   "id": "18300004-3972-4573-918e-7bb4461d7eae",
   "metadata": {},
   "outputs": [],
   "source": [
    "train_val_dataset = pd.read_csv(\"./data/title_abstract_train_val_dataset.csv\")\n",
    "eval_dataset = pd.read_csv(\"./data/title_abstract_eval_dataset.csv\")"
   ]
  },
  {
   "cell_type": "code",
   "execution_count": 4,
   "id": "583e23fa-ee76-47e9-89c0-9b286f1eb74e",
   "metadata": {},
   "outputs": [
    {
     "data": {
      "text/html": [
       "<div>\n",
       "<style scoped>\n",
       "    .dataframe tbody tr th:only-of-type {\n",
       "        vertical-align: middle;\n",
       "    }\n",
       "\n",
       "    .dataframe tbody tr th {\n",
       "        vertical-align: top;\n",
       "    }\n",
       "\n",
       "    .dataframe thead th {\n",
       "        text-align: right;\n",
       "    }\n",
       "</style>\n",
       "<table border=\"1\" class=\"dataframe\">\n",
       "  <thead>\n",
       "    <tr style=\"text-align: right;\">\n",
       "      <th></th>\n",
       "      <th>Title_and_Abstract</th>\n",
       "      <th>Accepted_for_Full_Text</th>\n",
       "    </tr>\n",
       "  </thead>\n",
       "  <tbody>\n",
       "    <tr>\n",
       "      <th>990</th>\n",
       "      <td>Guest Editorial: An End-to-End Machine Learnin...</td>\n",
       "      <td>0</td>\n",
       "    </tr>\n",
       "    <tr>\n",
       "      <th>991</th>\n",
       "      <td>Guest Editorial Special Issue on Privacy and S...</td>\n",
       "      <td>0</td>\n",
       "    </tr>\n",
       "    <tr>\n",
       "      <th>992</th>\n",
       "      <td>Guest Editorial Special Issue on Emerging Tren...</td>\n",
       "      <td>0</td>\n",
       "    </tr>\n",
       "    <tr>\n",
       "      <th>993</th>\n",
       "      <td>Guest Editorial Special Issue on Advanced Cogn...</td>\n",
       "      <td>0</td>\n",
       "    </tr>\n",
       "    <tr>\n",
       "      <th>994</th>\n",
       "      <td>Enhancing Smart Agriculture Scenarios with Low...</td>\n",
       "      <td>1</td>\n",
       "    </tr>\n",
       "    <tr>\n",
       "      <th>995</th>\n",
       "      <td>High Voltage Discharge Exhibits Severe Effect ...</td>\n",
       "      <td>0</td>\n",
       "    </tr>\n",
       "    <tr>\n",
       "      <th>996</th>\n",
       "      <td>Heterogeneous GNN-RL-Based Task Offloading for...</td>\n",
       "      <td>1</td>\n",
       "    </tr>\n",
       "    <tr>\n",
       "      <th>997</th>\n",
       "      <td>Optimized Data Fusion With Scheduled Rest Peri...</td>\n",
       "      <td>0</td>\n",
       "    </tr>\n",
       "    <tr>\n",
       "      <th>998</th>\n",
       "      <td>FarmEdge: A Unified Edge Computing Framework E...</td>\n",
       "      <td>1</td>\n",
       "    </tr>\n",
       "    <tr>\n",
       "      <th>999</th>\n",
       "      <td>5G Network: Architecture, Protocols, Challenge...</td>\n",
       "      <td>0</td>\n",
       "    </tr>\n",
       "  </tbody>\n",
       "</table>\n",
       "</div>"
      ],
      "text/plain": [
       "                                    Title_and_Abstract  Accepted_for_Full_Text\n",
       "990  Guest Editorial: An End-to-End Machine Learnin...                       0\n",
       "991  Guest Editorial Special Issue on Privacy and S...                       0\n",
       "992  Guest Editorial Special Issue on Emerging Tren...                       0\n",
       "993  Guest Editorial Special Issue on Advanced Cogn...                       0\n",
       "994  Enhancing Smart Agriculture Scenarios with Low...                       1\n",
       "995  High Voltage Discharge Exhibits Severe Effect ...                       0\n",
       "996  Heterogeneous GNN-RL-Based Task Offloading for...                       1\n",
       "997  Optimized Data Fusion With Scheduled Rest Peri...                       0\n",
       "998  FarmEdge: A Unified Edge Computing Framework E...                       1\n",
       "999  5G Network: Architecture, Protocols, Challenge...                       0"
      ]
     },
     "execution_count": 4,
     "metadata": {},
     "output_type": "execute_result"
    }
   ],
   "source": [
    "train_val_dataset.tail(10)"
   ]
  },
  {
   "cell_type": "code",
   "execution_count": 5,
   "id": "be8bb523-86a3-4310-9201-efb2c564421c",
   "metadata": {},
   "outputs": [
    {
     "data": {
      "text/html": [
       "<div>\n",
       "<style scoped>\n",
       "    .dataframe tbody tr th:only-of-type {\n",
       "        vertical-align: middle;\n",
       "    }\n",
       "\n",
       "    .dataframe tbody tr th {\n",
       "        vertical-align: top;\n",
       "    }\n",
       "\n",
       "    .dataframe thead th {\n",
       "        text-align: right;\n",
       "    }\n",
       "</style>\n",
       "<table border=\"1\" class=\"dataframe\">\n",
       "  <thead>\n",
       "    <tr style=\"text-align: right;\">\n",
       "      <th></th>\n",
       "      <th>Title_and_Abstract</th>\n",
       "      <th>Accepted_for_Full_Text</th>\n",
       "    </tr>\n",
       "  </thead>\n",
       "  <tbody>\n",
       "    <tr>\n",
       "      <th>0</th>\n",
       "      <td>Influence of artificial intelligence (AI) on f...</td>\n",
       "      <td>0</td>\n",
       "    </tr>\n",
       "    <tr>\n",
       "      <th>1</th>\n",
       "      <td>Software engineering approaches for tinyml bas...</td>\n",
       "      <td>0</td>\n",
       "    </tr>\n",
       "    <tr>\n",
       "      <th>2</th>\n",
       "      <td>Artificial intelligence in practice: how 50 su...</td>\n",
       "      <td>0</td>\n",
       "    </tr>\n",
       "    <tr>\n",
       "      <th>3</th>\n",
       "      <td>Industry 4.0: Industrial internet of things (I...</td>\n",
       "      <td>0</td>\n",
       "    </tr>\n",
       "    <tr>\n",
       "      <th>4</th>\n",
       "      <td>Artificial intelligence and biological misuse:...</td>\n",
       "      <td>0</td>\n",
       "    </tr>\n",
       "  </tbody>\n",
       "</table>\n",
       "</div>"
      ],
      "text/plain": [
       "                                  Title_and_Abstract  Accepted_for_Full_Text\n",
       "0  Influence of artificial intelligence (AI) on f...                       0\n",
       "1  Software engineering approaches for tinyml bas...                       0\n",
       "2  Artificial intelligence in practice: how 50 su...                       0\n",
       "3  Industry 4.0: Industrial internet of things (I...                       0\n",
       "4  Artificial intelligence and biological misuse:...                       0"
      ]
     },
     "execution_count": 5,
     "metadata": {},
     "output_type": "execute_result"
    }
   ],
   "source": [
    "eval_dataset.head(5)"
   ]
  },
  {
   "cell_type": "code",
   "execution_count": 6,
   "id": "1349e5ba-b8b3-47a1-8203-1bdaa1fbfcdd",
   "metadata": {},
   "outputs": [
    {
     "name": "stdout",
     "output_type": "stream",
     "text": [
      "<class 'pandas.core.frame.DataFrame'>\n",
      "RangeIndex: 1000 entries, 0 to 999\n",
      "Data columns (total 2 columns):\n",
      " #   Column                  Non-Null Count  Dtype \n",
      "---  ------                  --------------  ----- \n",
      " 0   Title_and_Abstract      996 non-null    object\n",
      " 1   Accepted_for_Full_Text  1000 non-null   int64 \n",
      "dtypes: int64(1), object(1)\n",
      "memory usage: 15.8+ KB\n"
     ]
    }
   ],
   "source": [
    "train_val_dataset.info()"
   ]
  },
  {
   "cell_type": "code",
   "execution_count": 7,
   "id": "2aa24134-50bb-4035-b813-1c6a246990c2",
   "metadata": {},
   "outputs": [],
   "source": [
    "eval_dataset.drop(\"Accepted_for_Full_Text\", axis = 1, inplace=True)"
   ]
  },
  {
   "cell_type": "code",
   "execution_count": 8,
   "id": "43b9b976-6234-47d8-a4ed-5d83e240d9c7",
   "metadata": {},
   "outputs": [
    {
     "data": {
      "text/html": [
       "<div>\n",
       "<style scoped>\n",
       "    .dataframe tbody tr th:only-of-type {\n",
       "        vertical-align: middle;\n",
       "    }\n",
       "\n",
       "    .dataframe tbody tr th {\n",
       "        vertical-align: top;\n",
       "    }\n",
       "\n",
       "    .dataframe thead th {\n",
       "        text-align: right;\n",
       "    }\n",
       "</style>\n",
       "<table border=\"1\" class=\"dataframe\">\n",
       "  <thead>\n",
       "    <tr style=\"text-align: right;\">\n",
       "      <th></th>\n",
       "      <th>Title_and_Abstract</th>\n",
       "    </tr>\n",
       "  </thead>\n",
       "  <tbody>\n",
       "    <tr>\n",
       "      <th>0</th>\n",
       "      <td>Influence of artificial intelligence (AI) on f...</td>\n",
       "    </tr>\n",
       "    <tr>\n",
       "      <th>1</th>\n",
       "      <td>Software engineering approaches for tinyml bas...</td>\n",
       "    </tr>\n",
       "    <tr>\n",
       "      <th>2</th>\n",
       "      <td>Artificial intelligence in practice: how 50 su...</td>\n",
       "    </tr>\n",
       "    <tr>\n",
       "      <th>3</th>\n",
       "      <td>Industry 4.0: Industrial internet of things (I...</td>\n",
       "    </tr>\n",
       "    <tr>\n",
       "      <th>4</th>\n",
       "      <td>Artificial intelligence and biological misuse:...</td>\n",
       "    </tr>\n",
       "    <tr>\n",
       "      <th>...</th>\n",
       "      <td>...</td>\n",
       "    </tr>\n",
       "    <tr>\n",
       "      <th>10498</th>\n",
       "      <td>Wireless Sensor Network Based Greenhouse Monit...</td>\n",
       "    </tr>\n",
       "    <tr>\n",
       "      <th>10499</th>\n",
       "      <td>agroString 2.0: A Distributed-Ledger based Sma...</td>\n",
       "    </tr>\n",
       "    <tr>\n",
       "      <th>10500</th>\n",
       "      <td>Performance of Routing Protocol for Low-Power ...</td>\n",
       "    </tr>\n",
       "    <tr>\n",
       "      <th>10501</th>\n",
       "      <td>Churn-Tolerant Leader Election Protocols</td>\n",
       "    </tr>\n",
       "    <tr>\n",
       "      <th>10502</th>\n",
       "      <td>Holistic Technologies for Managing Internet of...</td>\n",
       "    </tr>\n",
       "  </tbody>\n",
       "</table>\n",
       "<p>10503 rows × 1 columns</p>\n",
       "</div>"
      ],
      "text/plain": [
       "                                      Title_and_Abstract\n",
       "0      Influence of artificial intelligence (AI) on f...\n",
       "1      Software engineering approaches for tinyml bas...\n",
       "2      Artificial intelligence in practice: how 50 su...\n",
       "3      Industry 4.0: Industrial internet of things (I...\n",
       "4      Artificial intelligence and biological misuse:...\n",
       "...                                                  ...\n",
       "10498  Wireless Sensor Network Based Greenhouse Monit...\n",
       "10499  agroString 2.0: A Distributed-Ledger based Sma...\n",
       "10500  Performance of Routing Protocol for Low-Power ...\n",
       "10501           Churn-Tolerant Leader Election Protocols\n",
       "10502  Holistic Technologies for Managing Internet of...\n",
       "\n",
       "[10503 rows x 1 columns]"
      ]
     },
     "execution_count": 8,
     "metadata": {},
     "output_type": "execute_result"
    }
   ],
   "source": [
    "eval_dataset"
   ]
  },
  {
   "cell_type": "code",
   "execution_count": 9,
   "id": "04344038-0640-49e7-85ea-7902a0bba4f4",
   "metadata": {},
   "outputs": [
    {
     "data": {
      "text/plain": [
       "((800, 2), (200, 2))"
      ]
     },
     "execution_count": 9,
     "metadata": {},
     "output_type": "execute_result"
    }
   ],
   "source": [
    "train_data, val_data = train_test_split(train_val_dataset, test_size=0.2, random_state=42)\n",
    "train_data.shape, val_data.shape"
   ]
  },
  {
   "cell_type": "code",
   "execution_count": 10,
   "id": "c0377ef2-d7ce-4453-a4dd-0f7448f05fdf",
   "metadata": {},
   "outputs": [],
   "source": [
    "tokenizer = DistilBertTokenizer.from_pretrained('distilbert-base-uncased')"
   ]
  },
  {
   "cell_type": "code",
   "execution_count": 11,
   "id": "f3b4f60b-b90e-4e21-9d69-246845c072f7",
   "metadata": {},
   "outputs": [],
   "source": [
    "train_encodings = tokenizer(train_data['Title_and_Abstract'].astype(str).tolist(), truncation=True, padding=True, max_length=512)\n",
    "val_encodings = tokenizer(val_data['Title_and_Abstract'].astype(str).tolist(), truncation=True, padding=True, max_length=512)\n",
    "test_encodings = tokenizer(eval_dataset['Title_and_Abstract'].astype(str).tolist(), truncation=True, padding=True, max_length=512)"
   ]
  },
  {
   "cell_type": "code",
   "execution_count": 12,
   "id": "0a9b35f7-1dd8-48cf-957f-5ee80b5646fd",
   "metadata": {},
   "outputs": [],
   "source": [
    "class TrainValDataset(torch.utils.data.Dataset):\n",
    "    def __init__(self, encodings, labels):\n",
    "        self.encodings = encodings\n",
    "        self.labels = labels\n",
    "\n",
    "    def __getitem__(self, idx):\n",
    "        item = {key: torch.tensor(val[idx]) for key, val in self.encodings.items()}\n",
    "        item['labels'] = torch.tensor(self.labels[idx])\n",
    "        return item\n",
    "\n",
    "    def __len__(self):\n",
    "        return len(self.labels)\n",
    "\n",
    "\n",
    "\n",
    "class TestDataset(torch.utils.data.Dataset):\n",
    "    def __init__(self, encodings):\n",
    "        self.encodings = encodings\n",
    "\n",
    "    def __getitem__(self, idx):\n",
    "        return {key: torch.tensor(val[idx]) for key, val in self.encodings.items()}\n",
    "\n",
    "    def __len__(self):\n",
    "        return len(self.encodings['input_ids'])\n"
   ]
  },
  {
   "cell_type": "code",
   "execution_count": 13,
   "id": "ecdb6f97-794e-4dae-8e0f-1e36d9349086",
   "metadata": {},
   "outputs": [],
   "source": [
    "# Create the PyTorch datasets\n",
    "train_dataset = TrainValDataset(train_encodings, train_data['Accepted_for_Full_Text'].tolist())\n",
    "val_dataset = TrainValDataset(val_encodings, val_data['Accepted_for_Full_Text'].tolist())\n",
    "\n",
    "test_dataset = TestDataset(test_encodings)"
   ]
  },
  {
   "cell_type": "code",
   "execution_count": 14,
   "id": "d24c2454-5d73-48aa-b3af-d2047c13a0c3",
   "metadata": {},
   "outputs": [],
   "source": [
    "# Create DataLoaders for train, validation, and test\n",
    "train_dataloader = DataLoader(train_dataset, batch_size=16, shuffle=True)\n",
    "val_dataloader = DataLoader(val_dataset, batch_size=16, shuffle=False)\n",
    "test_dataloader = DataLoader(test_dataset, batch_size=16, shuffle=False)"
   ]
  },
  {
   "cell_type": "code",
   "execution_count": 15,
   "id": "a20eb1e2-d209-4ba1-b955-1af2000014b4",
   "metadata": {},
   "outputs": [
    {
     "name": "stderr",
     "output_type": "stream",
     "text": [
      "Some weights of DistilBertForSequenceClassification were not initialized from the model checkpoint at distilbert-base-uncased and are newly initialized: ['classifier.bias', 'classifier.weight', 'pre_classifier.bias', 'pre_classifier.weight']\n",
      "You should probably TRAIN this model on a down-stream task to be able to use it for predictions and inference.\n"
     ]
    }
   ],
   "source": [
    "model = DistilBertForSequenceClassification.from_pretrained('distilbert-base-uncased', num_labels=2)\n",
    "\n",
    "# Choose device available\n",
    "device = torch.device(\"cuda\" if torch.cuda.is_available() else \"cpu\")\n",
    "\n",
    "optimizer = AdamW(model.parameters(), lr=5e-5)"
   ]
  },
  {
   "cell_type": "code",
   "execution_count": 16,
   "id": "baf1e21c-81a8-4422-94e6-acde908e4c5d",
   "metadata": {},
   "outputs": [],
   "source": [
    "def train_and_validate(model, train_dataloader, val_dataloader, optimizer, device, epochs=3, saved_models_path=saved_model_dir):\n",
    "    \"\"\"Train and validate the model.\n",
    "    \n",
    "    Args:\n",
    "        model (torch.nn.Module): The model to train and validate.\n",
    "        train_dataloader (DataLoader): DataLoader for training data.\n",
    "        val_dataloader (DataLoader): DataLoader for validation data.\n",
    "        optimizer (torch.optim.Optimizer): Optimizer for the model.\n",
    "        device (torch.device): Device to run the model computation.\n",
    "        epochs (int): Number of epochs to train the model.\n",
    "        saved_models_path (str): Directory path where the model will be saved.\n",
    "    \"\"\"\n",
    "    model = model.to(device)\n",
    "    best_val_accuracy = 0\n",
    "\n",
    "    # Get the model name from its class\n",
    "    model_name = model.__class__.__name__\n",
    "\n",
    "    total_steps = len(train_dataloader) * epochs\n",
    "    scheduler = get_scheduler(\n",
    "        \"linear\",\n",
    "        optimizer=optimizer,\n",
    "        num_warmup_steps=0,\n",
    "        num_training_steps=total_steps\n",
    "    )\n",
    "\n",
    "    for epoch in range(epochs):\n",
    "        # Training Phase\n",
    "        model.train()\n",
    "        total_loss = 0\n",
    "        for batch in tqdm(train_dataloader, desc=f\"Epoch {epoch + 1}/{epochs} - Training\"):\n",
    "            batch = {k: v.to(device) for k, v in batch.items()}\n",
    "            outputs = model(**batch)\n",
    "            loss = outputs.loss\n",
    "\n",
    "            optimizer.zero_grad()\n",
    "            loss.backward()\n",
    "            optimizer.step()\n",
    "            scheduler.step()\n",
    "\n",
    "            total_loss += loss.item()\n",
    "\n",
    "        avg_train_loss = total_loss / len(train_dataloader)\n",
    "        print(f\"Average training loss: {avg_train_loss:.4f}\")\n",
    "\n",
    "        # Validation Phase\n",
    "        model.eval()\n",
    "        total_val_loss = 0\n",
    "        total_correct = 0\n",
    "        total_examples = 0\n",
    "\n",
    "        with torch.no_grad():\n",
    "            for batch in tqdm(val_dataloader, desc=f\"Epoch {epoch + 1}/{epochs} - Validation\"):\n",
    "                batch = {k: v.to(device) for k, v in batch.items()}\n",
    "                outputs = model(**batch)\n",
    "                loss = outputs.loss\n",
    "                total_val_loss += loss.item()\n",
    "\n",
    "                logits = outputs.logits\n",
    "                predictions = torch.argmax(logits, dim=1)\n",
    "                total_correct += (predictions == batch['labels']).sum().item()\n",
    "                total_examples += batch['labels'].size(0)\n",
    "\n",
    "        avg_val_loss = total_val_loss / len(val_dataloader)\n",
    "        val_accuracy = total_correct / total_examples\n",
    "        print(f\"Average validation loss: {avg_val_loss:.4f}\")\n",
    "        print(f\"Validation accuracy: {val_accuracy:.4f}\")\n",
    "\n",
    "        # Save the best model\n",
    "        if val_accuracy > best_val_accuracy:\n",
    "            best_val_accuracy = val_accuracy\n",
    "            # Construct the filename for saving the model\n",
    "            save_path = os.path.join(saved_models_path, f\"{model_name}_best_model.pth\")\n",
    "            torch.save(model.state_dict(), save_path)\n",
    "            print(f\"Saved improved model at {save_path}\")"
   ]
  },
  {
   "cell_type": "code",
   "execution_count": 17,
   "id": "867dc9ba-1f11-4ab3-a0f6-7aed7ed68741",
   "metadata": {},
   "outputs": [
    {
     "name": "stderr",
     "output_type": "stream",
     "text": [
      "Epoch 1/10 - Training: 100%|██████████| 50/50 [00:24<00:00,  2.07it/s]\n"
     ]
    },
    {
     "name": "stdout",
     "output_type": "stream",
     "text": [
      "Average training loss: 0.4820\n"
     ]
    },
    {
     "name": "stderr",
     "output_type": "stream",
     "text": [
      "Epoch 1/10 - Validation: 100%|██████████| 13/13 [00:02<00:00,  6.32it/s]\n"
     ]
    },
    {
     "name": "stdout",
     "output_type": "stream",
     "text": [
      "Average validation loss: 0.3848\n",
      "Validation accuracy: 0.8050\n",
      "Saved improved model at ./SavedModels/DistilBertForSequenceClassification_best_model.pth\n"
     ]
    },
    {
     "name": "stderr",
     "output_type": "stream",
     "text": [
      "Epoch 2/10 - Training: 100%|██████████| 50/50 [00:23<00:00,  2.08it/s]\n"
     ]
    },
    {
     "name": "stdout",
     "output_type": "stream",
     "text": [
      "Average training loss: 0.2898\n"
     ]
    },
    {
     "name": "stderr",
     "output_type": "stream",
     "text": [
      "Epoch 2/10 - Validation: 100%|██████████| 13/13 [00:02<00:00,  6.25it/s]\n"
     ]
    },
    {
     "name": "stdout",
     "output_type": "stream",
     "text": [
      "Average validation loss: 0.4318\n",
      "Validation accuracy: 0.7950\n"
     ]
    },
    {
     "name": "stderr",
     "output_type": "stream",
     "text": [
      "Epoch 3/10 - Training: 100%|██████████| 50/50 [00:24<00:00,  2.06it/s]\n"
     ]
    },
    {
     "name": "stdout",
     "output_type": "stream",
     "text": [
      "Average training loss: 0.1741\n"
     ]
    },
    {
     "name": "stderr",
     "output_type": "stream",
     "text": [
      "Epoch 3/10 - Validation: 100%|██████████| 13/13 [00:02<00:00,  6.20it/s]\n"
     ]
    },
    {
     "name": "stdout",
     "output_type": "stream",
     "text": [
      "Average validation loss: 0.4371\n",
      "Validation accuracy: 0.8400\n",
      "Saved improved model at ./SavedModels/DistilBertForSequenceClassification_best_model.pth\n"
     ]
    },
    {
     "name": "stderr",
     "output_type": "stream",
     "text": [
      "Epoch 4/10 - Training: 100%|██████████| 50/50 [00:24<00:00,  2.05it/s]\n"
     ]
    },
    {
     "name": "stdout",
     "output_type": "stream",
     "text": [
      "Average training loss: 0.0939\n"
     ]
    },
    {
     "name": "stderr",
     "output_type": "stream",
     "text": [
      "Epoch 4/10 - Validation: 100%|██████████| 13/13 [00:02<00:00,  6.14it/s]\n"
     ]
    },
    {
     "name": "stdout",
     "output_type": "stream",
     "text": [
      "Average validation loss: 0.4127\n",
      "Validation accuracy: 0.8700\n",
      "Saved improved model at ./SavedModels/DistilBertForSequenceClassification_best_model.pth\n"
     ]
    },
    {
     "name": "stderr",
     "output_type": "stream",
     "text": [
      "Epoch 5/10 - Training: 100%|██████████| 50/50 [00:24<00:00,  2.04it/s]\n"
     ]
    },
    {
     "name": "stdout",
     "output_type": "stream",
     "text": [
      "Average training loss: 0.0517\n"
     ]
    },
    {
     "name": "stderr",
     "output_type": "stream",
     "text": [
      "Epoch 5/10 - Validation: 100%|██████████| 13/13 [00:02<00:00,  6.17it/s]\n"
     ]
    },
    {
     "name": "stdout",
     "output_type": "stream",
     "text": [
      "Average validation loss: 0.5200\n",
      "Validation accuracy: 0.8150\n"
     ]
    },
    {
     "name": "stderr",
     "output_type": "stream",
     "text": [
      "Epoch 6/10 - Training: 100%|██████████| 50/50 [00:24<00:00,  2.04it/s]\n"
     ]
    },
    {
     "name": "stdout",
     "output_type": "stream",
     "text": [
      "Average training loss: 0.0217\n"
     ]
    },
    {
     "name": "stderr",
     "output_type": "stream",
     "text": [
      "Epoch 6/10 - Validation: 100%|██████████| 13/13 [00:02<00:00,  6.12it/s]\n"
     ]
    },
    {
     "name": "stdout",
     "output_type": "stream",
     "text": [
      "Average validation loss: 0.5418\n",
      "Validation accuracy: 0.8550\n"
     ]
    },
    {
     "name": "stderr",
     "output_type": "stream",
     "text": [
      "Epoch 7/10 - Training: 100%|██████████| 50/50 [00:24<00:00,  2.03it/s]\n"
     ]
    },
    {
     "name": "stdout",
     "output_type": "stream",
     "text": [
      "Average training loss: 0.0195\n"
     ]
    },
    {
     "name": "stderr",
     "output_type": "stream",
     "text": [
      "Epoch 7/10 - Validation: 100%|██████████| 13/13 [00:02<00:00,  6.11it/s]\n"
     ]
    },
    {
     "name": "stdout",
     "output_type": "stream",
     "text": [
      "Average validation loss: 0.6604\n",
      "Validation accuracy: 0.8450\n"
     ]
    },
    {
     "name": "stderr",
     "output_type": "stream",
     "text": [
      "Epoch 8/10 - Training: 100%|██████████| 50/50 [00:24<00:00,  2.03it/s]\n"
     ]
    },
    {
     "name": "stdout",
     "output_type": "stream",
     "text": [
      "Average training loss: 0.0135\n"
     ]
    },
    {
     "name": "stderr",
     "output_type": "stream",
     "text": [
      "Epoch 8/10 - Validation: 100%|██████████| 13/13 [00:02<00:00,  6.15it/s]\n"
     ]
    },
    {
     "name": "stdout",
     "output_type": "stream",
     "text": [
      "Average validation loss: 0.7645\n",
      "Validation accuracy: 0.8350\n"
     ]
    },
    {
     "name": "stderr",
     "output_type": "stream",
     "text": [
      "Epoch 9/10 - Training: 100%|██████████| 50/50 [00:24<00:00,  2.03it/s]\n"
     ]
    },
    {
     "name": "stdout",
     "output_type": "stream",
     "text": [
      "Average training loss: 0.0086\n"
     ]
    },
    {
     "name": "stderr",
     "output_type": "stream",
     "text": [
      "Epoch 9/10 - Validation: 100%|██████████| 13/13 [00:02<00:00,  6.15it/s]\n"
     ]
    },
    {
     "name": "stdout",
     "output_type": "stream",
     "text": [
      "Average validation loss: 0.6567\n",
      "Validation accuracy: 0.8550\n"
     ]
    },
    {
     "name": "stderr",
     "output_type": "stream",
     "text": [
      "Epoch 10/10 - Training: 100%|██████████| 50/50 [00:24<00:00,  2.03it/s]\n"
     ]
    },
    {
     "name": "stdout",
     "output_type": "stream",
     "text": [
      "Average training loss: 0.0094\n"
     ]
    },
    {
     "name": "stderr",
     "output_type": "stream",
     "text": [
      "Epoch 10/10 - Validation: 100%|██████████| 13/13 [00:02<00:00,  6.12it/s]"
     ]
    },
    {
     "name": "stdout",
     "output_type": "stream",
     "text": [
      "Average validation loss: 0.6374\n",
      "Validation accuracy: 0.8500\n"
     ]
    },
    {
     "name": "stderr",
     "output_type": "stream",
     "text": [
      "\n"
     ]
    }
   ],
   "source": [
    "train_and_validate(\n",
    "    model=model,\n",
    "    train_dataloader=train_dataloader,\n",
    "    val_dataloader=val_dataloader,\n",
    "    optimizer=optimizer,\n",
    "    device=device,\n",
    "    epochs=10\n",
    ")"
   ]
  },
  {
   "cell_type": "code",
   "execution_count": 127,
   "id": "3a4fd769-cfa0-483f-b908-dba590317d60",
   "metadata": {},
   "outputs": [],
   "source": [
    "def classify_papers(model, dataloader, device, tokenizer):\n",
    "    \"\"\"Classify papers using the trained model and return a DataFrame with texts and their classifications.\"\"\"\n",
    "    model.eval()\n",
    "    predictions = []\n",
    "    texts = []\n",
    "\n",
    "    with torch.no_grad():\n",
    "        for batch in dataloader:\n",
    "            inputs = {k: v.to(device) for k, v in batch.items() if k != 'labels'}\n",
    "            batch_texts = [tokenizer.decode(t, skip_special_tokens=True) for t in batch['input_ids']]\n",
    "            texts.extend(batch_texts)\n",
    "            outputs = model(**inputs)\n",
    "            logits = outputs.logits\n",
    "            predicted_labels = torch.argmax(logits, dim=1)\n",
    "            predictions.extend(predicted_labels.cpu().numpy())\n",
    "\n",
    "    # Create DataFrame\n",
    "    results_df = pd.DataFrame({\n",
    "        'Title_and_Abstract': texts,\n",
    "        'Accepted_for_Full_Text': predictions\n",
    "    })\n",
    "\n",
    "    return results_df"
   ]
  },
  {
   "cell_type": "code",
   "execution_count": 128,
   "id": "4a15dd61-24d0-40de-80e8-a83531dc7923",
   "metadata": {},
   "outputs": [
    {
     "name": "stderr",
     "output_type": "stream",
     "text": [
      "Some weights of DistilBertForSequenceClassification were not initialized from the model checkpoint at distilbert-base-uncased and are newly initialized: ['classifier.bias', 'classifier.weight', 'pre_classifier.bias', 'pre_classifier.weight']\n",
      "You should probably TRAIN this model on a down-stream task to be able to use it for predictions and inference.\n"
     ]
    },
    {
     "data": {
      "text/plain": [
       "DistilBertForSequenceClassification(\n",
       "  (distilbert): DistilBertModel(\n",
       "    (embeddings): Embeddings(\n",
       "      (word_embeddings): Embedding(30522, 768, padding_idx=0)\n",
       "      (position_embeddings): Embedding(512, 768)\n",
       "      (LayerNorm): LayerNorm((768,), eps=1e-12, elementwise_affine=True)\n",
       "      (dropout): Dropout(p=0.1, inplace=False)\n",
       "    )\n",
       "    (transformer): Transformer(\n",
       "      (layer): ModuleList(\n",
       "        (0-5): 6 x TransformerBlock(\n",
       "          (attention): MultiHeadSelfAttention(\n",
       "            (dropout): Dropout(p=0.1, inplace=False)\n",
       "            (q_lin): Linear(in_features=768, out_features=768, bias=True)\n",
       "            (k_lin): Linear(in_features=768, out_features=768, bias=True)\n",
       "            (v_lin): Linear(in_features=768, out_features=768, bias=True)\n",
       "            (out_lin): Linear(in_features=768, out_features=768, bias=True)\n",
       "          )\n",
       "          (sa_layer_norm): LayerNorm((768,), eps=1e-12, elementwise_affine=True)\n",
       "          (ffn): FFN(\n",
       "            (dropout): Dropout(p=0.1, inplace=False)\n",
       "            (lin1): Linear(in_features=768, out_features=3072, bias=True)\n",
       "            (lin2): Linear(in_features=3072, out_features=768, bias=True)\n",
       "            (activation): GELUActivation()\n",
       "          )\n",
       "          (output_layer_norm): LayerNorm((768,), eps=1e-12, elementwise_affine=True)\n",
       "        )\n",
       "      )\n",
       "    )\n",
       "  )\n",
       "  (pre_classifier): Linear(in_features=768, out_features=768, bias=True)\n",
       "  (classifier): Linear(in_features=768, out_features=2, bias=True)\n",
       "  (dropout): Dropout(p=0.2, inplace=False)\n",
       ")"
      ]
     },
     "execution_count": 128,
     "metadata": {},
     "output_type": "execute_result"
    }
   ],
   "source": [
    "model = DistilBertForSequenceClassification.from_pretrained(\n",
    "    \"distilbert-base-uncased\",\n",
    "    num_labels=2,  # Ensure this matches the setup during training\n",
    "    output_attentions=False,\n",
    "    output_hidden_states=False,\n",
    ")\n",
    "\n",
    "# Step 2: Load the saved model weights\n",
    "model_path = saved_model_dir+'DistilBertForSequenceClassification_best_model.pth'\n",
    "model.load_state_dict(torch.load(model_path))\n",
    "\n",
    "model.to(device)\n",
    "model.eval()"
   ]
  },
  {
   "cell_type": "code",
   "execution_count": 129,
   "id": "70cf1e25-848e-4c50-88f8-26886c54c842",
   "metadata": {},
   "outputs": [],
   "source": [
    "results_df = classify_papers(model, test_dataloader, device, tokenizer)"
   ]
  },
  {
   "cell_type": "code",
   "execution_count": 130,
   "id": "fa6c94d8-82ab-4efc-963e-deec732431b0",
   "metadata": {},
   "outputs": [
    {
     "data": {
      "text/html": [
       "<div>\n",
       "<style scoped>\n",
       "    .dataframe tbody tr th:only-of-type {\n",
       "        vertical-align: middle;\n",
       "    }\n",
       "\n",
       "    .dataframe tbody tr th {\n",
       "        vertical-align: top;\n",
       "    }\n",
       "\n",
       "    .dataframe thead th {\n",
       "        text-align: right;\n",
       "    }\n",
       "</style>\n",
       "<table border=\"1\" class=\"dataframe\">\n",
       "  <thead>\n",
       "    <tr style=\"text-align: right;\">\n",
       "      <th></th>\n",
       "      <th>Title_and_Abstract</th>\n",
       "      <th>Accepted_for_Full_Text</th>\n",
       "    </tr>\n",
       "  </thead>\n",
       "  <tbody>\n",
       "    <tr>\n",
       "      <th>10493</th>\n",
       "      <td>fog based integrated nutrient management syste...</td>\n",
       "      <td>0</td>\n",
       "    </tr>\n",
       "    <tr>\n",
       "      <th>10494</th>\n",
       "      <td>an automated irrigation system for agriculture...</td>\n",
       "      <td>1</td>\n",
       "    </tr>\n",
       "    <tr>\n",
       "      <th>10495</th>\n",
       "      <td>using a compositional function hybridization o...</td>\n",
       "      <td>0</td>\n",
       "    </tr>\n",
       "    <tr>\n",
       "      <th>10496</th>\n",
       "      <td>a study on secure network slicing in 5g</td>\n",
       "      <td>0</td>\n",
       "    </tr>\n",
       "    <tr>\n",
       "      <th>10497</th>\n",
       "      <td>advancing cattle welfare : ultra low - power h...</td>\n",
       "      <td>1</td>\n",
       "    </tr>\n",
       "    <tr>\n",
       "      <th>10498</th>\n",
       "      <td>wireless sensor network based greenhouse monit...</td>\n",
       "      <td>0</td>\n",
       "    </tr>\n",
       "    <tr>\n",
       "      <th>10499</th>\n",
       "      <td>agrostring 2. 0 : a distributed - ledger based...</td>\n",
       "      <td>0</td>\n",
       "    </tr>\n",
       "    <tr>\n",
       "      <th>10500</th>\n",
       "      <td>performance of routing protocol for low - powe...</td>\n",
       "      <td>0</td>\n",
       "    </tr>\n",
       "    <tr>\n",
       "      <th>10501</th>\n",
       "      <td>churn - tolerant leader election protocols</td>\n",
       "      <td>0</td>\n",
       "    </tr>\n",
       "    <tr>\n",
       "      <th>10502</th>\n",
       "      <td>holistic technologies for managing internet of...</td>\n",
       "      <td>0</td>\n",
       "    </tr>\n",
       "  </tbody>\n",
       "</table>\n",
       "</div>"
      ],
      "text/plain": [
       "                                      Title_and_Abstract  \\\n",
       "10493  fog based integrated nutrient management syste...   \n",
       "10494  an automated irrigation system for agriculture...   \n",
       "10495  using a compositional function hybridization o...   \n",
       "10496            a study on secure network slicing in 5g   \n",
       "10497  advancing cattle welfare : ultra low - power h...   \n",
       "10498  wireless sensor network based greenhouse monit...   \n",
       "10499  agrostring 2. 0 : a distributed - ledger based...   \n",
       "10500  performance of routing protocol for low - powe...   \n",
       "10501         churn - tolerant leader election protocols   \n",
       "10502  holistic technologies for managing internet of...   \n",
       "\n",
       "       Accepted_for_Full_Text  \n",
       "10493                       0  \n",
       "10494                       1  \n",
       "10495                       0  \n",
       "10496                       0  \n",
       "10497                       1  \n",
       "10498                       0  \n",
       "10499                       0  \n",
       "10500                       0  \n",
       "10501                       0  \n",
       "10502                       0  "
      ]
     },
     "execution_count": 130,
     "metadata": {},
     "output_type": "execute_result"
    }
   ],
   "source": [
    "results_df.tail(10)"
   ]
  },
  {
   "cell_type": "code",
   "execution_count": 205,
   "id": "16e5dcff-1ef0-40aa-a2d7-68cd7dcce67d",
   "metadata": {},
   "outputs": [],
   "source": [
    "relevant_df = results_df[results_df['Accepted_for_Full_Text'] == 1]\n",
    "not_relevant_df = results_df[results_df['Accepted_for_Full_Text'] == 0]"
   ]
  },
  {
   "cell_type": "code",
   "execution_count": 206,
   "id": "a9e72c5d-8c73-467c-a98f-430ce251f703",
   "metadata": {},
   "outputs": [
    {
     "data": {
      "text/plain": [
       "((2261, 2), (8242, 2))"
      ]
     },
     "execution_count": 206,
     "metadata": {},
     "output_type": "execute_result"
    }
   ],
   "source": [
    "relevant_df.shape, not_relevant_df.shape"
   ]
  },
  {
   "cell_type": "code",
   "execution_count": 208,
   "id": "195c90b2-d084-4d5d-8878-f9bd9ba1e9f5",
   "metadata": {},
   "outputs": [
    {
     "data": {
      "text/html": [
       "<div>\n",
       "<style scoped>\n",
       "    .dataframe tbody tr th:only-of-type {\n",
       "        vertical-align: middle;\n",
       "    }\n",
       "\n",
       "    .dataframe tbody tr th {\n",
       "        vertical-align: top;\n",
       "    }\n",
       "\n",
       "    .dataframe thead th {\n",
       "        text-align: right;\n",
       "    }\n",
       "</style>\n",
       "<table border=\"1\" class=\"dataframe\">\n",
       "  <thead>\n",
       "    <tr style=\"text-align: right;\">\n",
       "      <th></th>\n",
       "      <th>Title_and_Abstract</th>\n",
       "      <th>Accepted_for_Full_Text</th>\n",
       "    </tr>\n",
       "  </thead>\n",
       "  <tbody>\n",
       "    <tr>\n",
       "      <th>12</th>\n",
       "      <td>novel method for crop growth tracking with deep learning model on an edge rail camera … with the advent of deep learning technology, recent studies are focusing on crop … agriculture is keep increasing, from conventional image processing to cutting - edge deep learning …</td>\n",
       "      <td>1</td>\n",
       "    </tr>\n",
       "    <tr>\n",
       "      <th>21</th>\n",
       "      <td>aiot in agriculture : safeguarding crops from pest and disease threats … machine learning algorithm ( figure 4 ) : once a month, the server uses the collected environmental data to retrain each machine learning … this work permits the use of edge computing …</td>\n",
       "      <td>1</td>\n",
       "    </tr>\n",
       "    <tr>\n",
       "      <th>30</th>\n",
       "      <td>conceptualizing a holistic smart dairy farming system … machine - learning - based pre - processing will be passed over to a data broker handling all information flows of the edge ai … support for artificial intelligence ( ai ) in agriculture as funding …</td>\n",
       "      <td>1</td>\n",
       "    </tr>\n",
       "    <tr>\n",
       "      <th>41</th>\n",
       "      <td>plant disease detection : electronic system design empowered with artificial intelligence … of diseases in agriculture. with the continuous development of deep learning from one hand, … a smart crop growth monitoring using edge artificial intelligence ( ai ) was developed in [ 7 ] …</td>\n",
       "      <td>1</td>\n",
       "    </tr>\n",
       "    <tr>\n",
       "      <th>42</th>\n",
       "      <td>improving deep learning classifiers performance via preprocessing and class imbalance approaches in a plant disease detection pipeline … ( cea ) has progressively come to represent the growth of modern agriculture … edge computing devices in our future work to achieve real - time plant disease diagnosis using edge - ai …</td>\n",
       "      <td>1</td>\n",
       "    </tr>\n",
       "    <tr>\n",
       "      <th>...</th>\n",
       "      <td>...</td>\n",
       "      <td>...</td>\n",
       "    </tr>\n",
       "    <tr>\n",
       "      <th>10484</th>\n",
       "      <td>temperature and humidity control algorithm for poultry farm control systems</td>\n",
       "      <td>1</td>\n",
       "    </tr>\n",
       "    <tr>\n",
       "      <th>10491</th>\n",
       "      <td>iot based precision agri - bot</td>\n",
       "      <td>1</td>\n",
       "    </tr>\n",
       "    <tr>\n",
       "      <th>10492</th>\n",
       "      <td>a fog - based smart agriculture system to detect animal intrusion</td>\n",
       "      <td>1</td>\n",
       "    </tr>\n",
       "    <tr>\n",
       "      <th>10494</th>\n",
       "      <td>an automated irrigation system for agriculture using iot</td>\n",
       "      <td>1</td>\n",
       "    </tr>\n",
       "    <tr>\n",
       "      <th>10497</th>\n",
       "      <td>advancing cattle welfare : ultra low - power health monitoring at the edge</td>\n",
       "      <td>1</td>\n",
       "    </tr>\n",
       "  </tbody>\n",
       "</table>\n",
       "<p>2261 rows × 2 columns</p>\n",
       "</div>"
      ],
      "text/plain": [
       "                                                                                                                                                                                                                                                                                                                       Title_and_Abstract  \\\n",
       "12                                                        novel method for crop growth tracking with deep learning model on an edge rail camera … with the advent of deep learning technology, recent studies are focusing on crop … agriculture is keep increasing, from conventional image processing to cutting - edge deep learning …   \n",
       "21                                                                     aiot in agriculture : safeguarding crops from pest and disease threats … machine learning algorithm ( figure 4 ) : once a month, the server uses the collected environmental data to retrain each machine learning … this work permits the use of edge computing …   \n",
       "30                                                                        conceptualizing a holistic smart dairy farming system … machine - learning - based pre - processing will be passed over to a data broker handling all information flows of the edge ai … support for artificial intelligence ( ai ) in agriculture as funding …   \n",
       "41                                            plant disease detection : electronic system design empowered with artificial intelligence … of diseases in agriculture. with the continuous development of deep learning from one hand, … a smart crop growth monitoring using edge artificial intelligence ( ai ) was developed in [ 7 ] …   \n",
       "42     improving deep learning classifiers performance via preprocessing and class imbalance approaches in a plant disease detection pipeline … ( cea ) has progressively come to represent the growth of modern agriculture … edge computing devices in our future work to achieve real - time plant disease diagnosis using edge - ai …   \n",
       "...                                                                                                                                                                                                                                                                                                                                   ...   \n",
       "10484                                                                                                                                                                                                                                                         temperature and humidity control algorithm for poultry farm control systems   \n",
       "10491                                                                                                                                                                                                                                                                                                      iot based precision agri - bot   \n",
       "10492                                                                                                                                                                                                                                                                   a fog - based smart agriculture system to detect animal intrusion   \n",
       "10494                                                                                                                                                                                                                                                                            an automated irrigation system for agriculture using iot   \n",
       "10497                                                                                                                                                                                                                                                          advancing cattle welfare : ultra low - power health monitoring at the edge   \n",
       "\n",
       "       Accepted_for_Full_Text  \n",
       "12                          1  \n",
       "21                          1  \n",
       "30                          1  \n",
       "41                          1  \n",
       "42                          1  \n",
       "...                       ...  \n",
       "10484                       1  \n",
       "10491                       1  \n",
       "10492                       1  \n",
       "10494                       1  \n",
       "10497                       1  \n",
       "\n",
       "[2261 rows x 2 columns]"
      ]
     },
     "execution_count": 208,
     "metadata": {},
     "output_type": "execute_result"
    }
   ],
   "source": [
    "relevant_df"
   ]
  },
  {
   "cell_type": "code",
   "execution_count": 281,
   "id": "a7700d72-cc2b-45a4-ac5a-2e848dbb288b",
   "metadata": {},
   "outputs": [],
   "source": [
    "def parse_bib_file_to_dict(file_path):\n",
    "    \"\"\"Parse a BibTeX file and return a list of raw combined title and abstract entries.\"\"\"\n",
    "    with open(file_path, encoding='utf-8') as bibtex_file:\n",
    "        parser = BibTexParser(common_strings=True)\n",
    "        bib_database = bibtexparser.load(bibtex_file, parser=parser)\n",
    "\n",
    "    entries_list = []\n",
    "\n",
    "    for entry in bib_database.entries:\n",
    "        # Extract title and abstract, handle missing fields\n",
    "        title = entry.get('title', '').replace('{', '').replace('}', '').replace('\\n', ' ').strip()\n",
    "        abstract = entry.get('abstract', '').replace('{', '').replace('}', '').replace('\\n', ' ').strip()\n",
    "        \n",
    "        # Combine the title and abstract directly without normalization\n",
    "        text_feature = f\"{title} {abstract}\".strip()\n",
    "        \n",
    "        # Append the raw combined text to the list\n",
    "        entries_list.append(text_feature)\n",
    "\n",
    "    return entries_list\n",
    "\n",
    "\n",
    "# def normalize_text(text):\n",
    "#     \"\"\"Normalize a text by removing extra spaces, converting to lowercase, and cleaning special characters.\"\"\"\n",
    "#     text = re.sub(r'\\s+', ' ', text)  # Replace multiple whitespaces with single space\n",
    "#     text = re.sub(r'[^\\w\\s]', '', text)  # Remove punctuation\n",
    "#     return text.lower().strip()\n",
    "\n",
    "\n",
    "def extract_matching_bib_entries(predicted_texts, original_bib_entries):\n",
    "    \"\"\"Extract entries from original BibTeX data where combined title and abstract match the predicted texts.\"\"\"\n",
    "    normalized_predicted_texts = [normalize_text(text) for text in predicted_texts]\n",
    "    matching_entries = []\n",
    "\n",
    "    for entry in original_bib_entries:\n",
    "        combined_text = entry.get('title', '') + \" \" + entry.get('abstract', '')\n",
    "        normalized_bib_text = normalize_text(combined_text)\n",
    "        if normalized_bib_text in normalized_predicted_texts:\n",
    "            matching_entries.append(entry)\n",
    "\n",
    "    return matching_entries\n",
    "\n"
   ]
  },
  {
   "cell_type": "code",
   "execution_count": 282,
   "id": "b8e1fc9e-a2ae-4d2a-9e92-cecbcfb208b3",
   "metadata": {},
   "outputs": [],
   "source": [
    "original_bib_file_dir = \"data/Papers_after_duplicates.bib\""
   ]
  },
  {
   "cell_type": "code",
   "execution_count": 283,
   "id": "64b6c28e-47ee-4a77-9f45-9e8fb6b39ff3",
   "metadata": {},
   "outputs": [],
   "source": [
    "titles_and_abstracts = parse_bib_file_to_dict(original_bib_file_dir)"
   ]
  },
  {
   "cell_type": "code",
   "execution_count": 284,
   "id": "b968e323-2b36-4e31-ba80-6ca88dc60c58",
   "metadata": {},
   "outputs": [],
   "source": [
    "predicted_titles_and_abstracts = relevant_df['Title_and_Abstract'].astype(str).tolist()"
   ]
  },
  {
   "cell_type": "code",
   "execution_count": 232,
   "id": "15e1b632-32a0-4260-be37-248f98c529bd",
   "metadata": {},
   "outputs": [],
   "source": [
    "# matched_entries = extract_matching_bib_entries(predicted_titles_and_abstracts, bib_entries)"
   ]
  },
  {
   "cell_type": "code",
   "execution_count": 234,
   "id": "26b5c4d9-7685-4c0f-9b3c-d7df1249fa64",
   "metadata": {},
   "outputs": [
    {
     "data": {
      "text/plain": [
       "826"
      ]
     },
     "execution_count": 234,
     "metadata": {},
     "output_type": "execute_result"
    }
   ],
   "source": [
    "len(matched_entries)"
   ]
  },
  {
   "cell_type": "code",
   "execution_count": 285,
   "id": "d2907a9a-ac8d-4681-8651-1c8b9fdcccd4",
   "metadata": {},
   "outputs": [
    {
     "data": {
      "text/plain": [
       "['Influence of artificial intelligence (AI) on firm performance: the business value of AI-based transformation projects … Transformation: ADNOC and IBM are relying on cutting-edge AI to develop an automated … This case study highlights the advantages of AI in the field of food and agriculture. Note that the …',\n",
       " 'Software engineering approaches for tinyml based iot embedded vision: A systematic literature review … (Tiny Machine Learning) has enabled the deployment of ML models for embedded vision on extremely lean edge … It is projected that a total of 2.5 billion edge AI devices will ship with a …',\n",
       " 'Artificial intelligence in practice: how 50 successful companies used AI and machine learning to solve problems … r Where Alphabet has seen breakthrough development in leading edge AI, such as deep learning, by research groups and start-ups, Google has used its financial resources to bring it …',\n",
       " 'Industry 4.0: Industrial internet of things (IIOT) … Technologies and IoT have the potential to transform agriculture in many … on Machine Learning / Deep Learning / IoT delivering innovative and cutting-edge AI and Machine Learning to …',\n",
       " 'Artificial intelligence and biological misuse: Differentiating risks of language models and biological design tools … Individuals working at cutting-edge AI companies have highlighted the potential for LLMs to exhibit “dangerous capabilities”, which includes the proliferation of weapons, and have …']"
      ]
     },
     "execution_count": 285,
     "metadata": {},
     "output_type": "execute_result"
    }
   ],
   "source": [
    "titles_and_abstracts[:5]"
   ]
  },
  {
   "cell_type": "code",
   "execution_count": 286,
   "id": "6305ec56-0bda-466f-bbfa-f088fd971184",
   "metadata": {},
   "outputs": [
    {
     "data": {
      "text/plain": [
       "['novel method for crop growth tracking with deep learning model on an edge rail camera … with the advent of deep learning technology, recent studies are focusing on crop … agriculture is keep increasing, from conventional image processing to cutting - edge deep learning …',\n",
       " 'aiot in agriculture : safeguarding crops from pest and disease threats … machine learning algorithm ( figure 4 ) : once a month, the server uses the collected environmental data to retrain each machine learning … this work permits the use of edge computing …',\n",
       " 'conceptualizing a holistic smart dairy farming system … machine - learning - based pre - processing will be passed over to a data broker handling all information flows of the edge ai … support for artificial intelligence ( ai ) in agriculture as funding …',\n",
       " 'plant disease detection : electronic system design empowered with artificial intelligence … of diseases in agriculture. with the continuous development of deep learning from one hand, … a smart crop growth monitoring using edge artificial intelligence ( ai ) was developed in [ 7 ] …',\n",
       " 'improving deep learning classifiers performance via preprocessing and class imbalance approaches in a plant disease detection pipeline … ( cea ) has progressively come to represent the growth of modern agriculture … edge computing devices in our future work to achieve real - time plant disease diagnosis using edge - ai …']"
      ]
     },
     "execution_count": 286,
     "metadata": {},
     "output_type": "execute_result"
    }
   ],
   "source": [
    "predicted_titles_and_abstracts[:5]"
   ]
  },
  {
   "cell_type": "code",
   "execution_count": 287,
   "id": "4cbe0fa5-d64c-4474-87a1-f171eb1d52fa",
   "metadata": {},
   "outputs": [],
   "source": [
    "# normalized_predicted = [normalize_text(text) for text in predicted_titles_and_abstracts]"
   ]
  },
  {
   "cell_type": "code",
   "execution_count": 289,
   "id": "5e748ebb-f88d-4208-8d20-6c2337ef7f88",
   "metadata": {},
   "outputs": [
    {
     "data": {
      "text/plain": [
       "['novel method for crop growth tracking with deep learning model on an edge rail camera  with the advent of deep learning technology recent studies are focusing on crop  agriculture is keep increasing from conventional image processing to cutting  edge deep learning',\n",
       " 'aiot in agriculture  safeguarding crops from pest and disease threats  machine learning algorithm  figure 4   once a month the server uses the collected environmental data to retrain each machine learning  this work permits the use of edge computing',\n",
       " 'conceptualizing a holistic smart dairy farming system  machine  learning  based pre  processing will be passed over to a data broker handling all information flows of the edge ai  support for artificial intelligence  ai  in agriculture as funding',\n",
       " 'plant disease detection  electronic system design empowered with artificial intelligence  of diseases in agriculture with the continuous development of deep learning from one hand  a smart crop growth monitoring using edge artificial intelligence  ai  was developed in  7']"
      ]
     },
     "execution_count": 289,
     "metadata": {},
     "output_type": "execute_result"
    }
   ],
   "source": [
    "normalized_predicted[:4]"
   ]
  },
  {
   "cell_type": "code",
   "execution_count": 255,
   "id": "f4491baf-b957-4386-862a-6b48e296fa68",
   "metadata": {},
   "outputs": [],
   "source": [
    "def match_entries(predicted_list, bib_entries_list):\n",
    "    \"\"\"Match predicted titles and abstracts against BibTeX entries and categorize into matched and unmatched.\"\"\"\n",
    "    matched = []\n",
    "    unmatched = []\n",
    "\n",
    "    # Convert bib_entries_list to a set for faster lookup\n",
    "    bib_entries_set = set(bib_entries_list)\n",
    "\n",
    "    for predicted in predicted_list:\n",
    "        if predicted in bib_entries_set:\n",
    "            matched.append(predicted)\n",
    "        else:\n",
    "            unmatched.append(predicted)\n",
    "\n",
    "    return matched, unmatched\n",
    "\n",
    "# Assuming 'normalized_predicted' and 'normalized_entries' are available from previous steps\n",
    "matched_entries, unmatched_entries = match_entries(normalized_predicted, titles_and_abstracts)\n"
   ]
  },
  {
   "cell_type": "code",
   "execution_count": 258,
   "id": "9ec98c57-a0d4-41cb-8a25-639e37580f70",
   "metadata": {},
   "outputs": [
    {
     "data": {
      "text/plain": [
       "826"
      ]
     },
     "execution_count": 258,
     "metadata": {},
     "output_type": "execute_result"
    }
   ],
   "source": [
    "len(matched_entries)"
   ]
  },
  {
   "cell_type": "code",
   "execution_count": 263,
   "id": "763d099e-9d38-4dd6-b556-a553075cad4d",
   "metadata": {},
   "outputs": [
    {
     "data": {
      "text/plain": [
       "1435"
      ]
     },
     "execution_count": 263,
     "metadata": {},
     "output_type": "execute_result"
    }
   ],
   "source": [
    "len(unmatched_entries)"
   ]
  },
  {
   "cell_type": "code",
   "execution_count": 265,
   "id": "c489af41-1d44-4baf-8195-204df21f8159",
   "metadata": {},
   "outputs": [
    {
     "data": {
      "text/plain": [
       "['towards a novel wearable solution for citrus inspection using edge ai  agriculture has benefited from computer vision  use deep learning on an edge ai specialized device for this matter we applied and evaluated the standard metrics for machine learning',\n",
       " 'autonomous navigation in vineyards with deep learning at the edge  over the past years the agriculture industry is asked to respond  later advancement in deep learning and edge computing  on the other hand as edge ai embedded computational',\n",
       " 'remote crop sensing with iot and ai on the edge  this edge computing approach utilizing artificial intelligence  and mechanised agriculture based on machine learning and  the self proclaimed edge ai is a concept of balance between',\n",
       " 'chapter 16  role of artificial intelligence and the internet of things in agriculture the agricultural industry relies on innovative ideas and technological advancements to help increase yields and better allocate resources the late 19th and the 20th centuries brought several mechanical innovations like tractors and harvesters today a driving force behind increased agricultural production at a lower cost is artificial intelligence and the internet of things which leaves the door wide open for engineers looking to give new innovative ideas to enhance the agricultural yield with fewer resources',\n",
       " 'deep semantic segmentation at the edge for autonomous navigation in vineyard rows  advancement in machine perception and edge ai techniques to achieve highly affordable  agriculture and digital farming has gradually introduced robotics and artificial intelligence into',\n",
       " 'scalable ai for edge computing  edge ai model optimization is a critical facet of harnessing the full potential of artificial intelligence at the edge as  in a smart agriculture system edge devices equipped with sensors',\n",
       " 'developing object detection models for camera applications in smart poultry farms  deep learning to create prediction models that can be deployed as a part of smart agriculture  we envisioned the use of the prediction model in an edge ai setting where the model is',\n",
       " 'monitoring and control system for green house using edge computing  edge ai also known as local network layer artificial intelligence enables smart farming and agricultural applications using edge and fog computing as well as lpwan technology for',\n",
       " 'design of citrus fruit detection system based on mobile platform and edge computer device  the proposed edge segment solution can deploy on unmanned ground vehicles and the  on a deep learning target detection model mobile data platform and edge computing device',\n",
       " 'farm automation  even after all these benefits of the farm automation system the system can still be upgraded to make a more powerful system as new methods of artificial intelligence and edge']"
      ]
     },
     "execution_count": 265,
     "metadata": {},
     "output_type": "execute_result"
    }
   ],
   "source": [
    "matched_entries[:10]"
   ]
  },
  {
   "cell_type": "code",
   "execution_count": 266,
   "id": "a21a7da1-6378-4d5e-9060-3ae36635f5ac",
   "metadata": {},
   "outputs": [
    {
     "data": {
      "text/plain": [
       "['novel method for crop growth tracking with deep learning model on an edge rail camera  with the advent of deep learning technology recent studies are focusing on crop  agriculture is keep increasing from conventional image processing to cutting  edge deep learning',\n",
       " 'aiot in agriculture  safeguarding crops from pest and disease threats  machine learning algorithm  figure 4   once a month the server uses the collected environmental data to retrain each machine learning  this work permits the use of edge computing',\n",
       " 'conceptualizing a holistic smart dairy farming system  machine  learning  based pre  processing will be passed over to a data broker handling all information flows of the edge ai  support for artificial intelligence  ai  in agriculture as funding',\n",
       " 'plant disease detection  electronic system design empowered with artificial intelligence  of diseases in agriculture with the continuous development of deep learning from one hand  a smart crop growth monitoring using edge artificial intelligence  ai  was developed in  7',\n",
       " 'improving deep learning classifiers performance via preprocessing and class imbalance approaches in a plant disease detection pipeline   cea  has progressively come to represent the growth of modern agriculture  edge computing devices in our future work to achieve real  time plant disease diagnosis using edge  ai',\n",
       " 'real  time droplet detection for agricultural spraying systems  a deep learning approach  this paper establishes a deep learning methodology to detect  in droplet detection for precision agriculture applications  mobile robotics and edge ai capabilities for droplet analysis']"
      ]
     },
     "execution_count": 266,
     "metadata": {},
     "output_type": "execute_result"
    }
   ],
   "source": [
    "unmatched_entries[:6]"
   ]
  },
  {
   "cell_type": "code",
   "execution_count": 267,
   "id": "b0ad3884-57bc-4c82-9efb-069614f399bc",
   "metadata": {},
   "outputs": [],
   "source": [
    "def normalize_and_process_text(texts, tokenizer):\n",
    "    \"\"\"Normalize and process texts using a tokenizer and decode them back to strings.\"\"\"\n",
    "    normalized_texts = [normalize_text(text) for text in texts]  # Assuming normalize_text is already defined\n",
    "    tokenized_texts = tokenizer(normalized_texts, truncation=True, padding=True, max_length=512, return_tensors=\"pt\")\n",
    "    decoded_texts = [tokenizer.decode(t, skip_special_tokens=True) for t in tokenized_texts.input_ids]\n",
    "    return decoded_texts\n",
    "\n",
    "processed_extracted_texts = normalize_and_process_text(titles_and_abstracts, tokenizer)"
   ]
  },
  {
   "cell_type": "code",
   "execution_count": 272,
   "id": "1de505c7-7e4b-45bf-a14a-429ee34e3f9d",
   "metadata": {},
   "outputs": [],
   "source": [
    "processed_predicted_texts = normalize_and_process_text(normalized_predicted, tokenizer)"
   ]
  },
  {
   "cell_type": "code",
   "execution_count": 269,
   "id": "ee11911d-f009-4a1c-bd6a-71b528c7a80a",
   "metadata": {},
   "outputs": [
    {
     "data": {
      "text/plain": [
       "['influence of artificial intelligence ai on firm performance the business value of aibased transformation projects transformation adnoc and ibm are relying on cuttingedge ai to develop an automated this case study highlights the advantages of ai in the field of food and agriculture note that the',\n",
       " 'software engineering approaches for tinyml based iot embedded vision a systematic literature review tiny machine learning has enabled the deployment of ml models for embedded vision on extremely lean edge it is projected that a total of 25 billion edge ai devices will ship with a',\n",
       " 'artificial intelligence in practice how 50 successful companies used ai and machine learning to solve problems r where alphabet has seen breakthrough development in leading edge ai such as deep learning by research groups and startups google has used its financial resources to bring it',\n",
       " 'industry 40 industrial internet of things iiot technologies and iot have the potential to transform agriculture in many on machine learning deep learning iot delivering innovative and cuttingedge ai and machine learning to',\n",
       " 'artificial intelligence and biological misuse differentiating risks of language models and biological design tools individuals working at cuttingedge ai companies have highlighted the potential for llms to exhibit dangerous capabilities which includes the proliferation of weapons and have']"
      ]
     },
     "execution_count": 269,
     "metadata": {},
     "output_type": "execute_result"
    }
   ],
   "source": [
    "processed_extracted_texts[:5]"
   ]
  },
  {
   "cell_type": "code",
   "execution_count": 273,
   "id": "a43bf198-4088-45c2-ac54-023b345db462",
   "metadata": {},
   "outputs": [],
   "source": [
    "matched_entries, unmatched_entries = match_entries(processed_predicted_texts,processed_extracted_texts)"
   ]
  },
  {
   "cell_type": "code",
   "execution_count": 275,
   "id": "77bc0a9d-cad7-42e0-b6a3-577b7a1002d5",
   "metadata": {},
   "outputs": [
    {
     "data": {
      "text/plain": [
       "1172"
      ]
     },
     "execution_count": 275,
     "metadata": {},
     "output_type": "execute_result"
    }
   ],
   "source": [
    "len(matched_entries)"
   ]
  },
  {
   "cell_type": "code",
   "execution_count": 279,
   "id": "16ad9be3-a0d0-4930-b1e0-566d583260f7",
   "metadata": {},
   "outputs": [
    {
     "data": {
      "text/plain": [
       "['smart logistic system for enhancing the farmer customer corridor in smart agriculture sector using artificial intelligence',\n",
       " 'real time riped fruit detection using faster r cnn deep neural network models',\n",
       " 'improvement of precision in agriculture using iot based machine learning techniques',\n",
       " 'plant disease detection using ai based vgg 16 model',\n",
       " 'iot based portable weather station for irrigation management using real time parameters',\n",
       " 'machine learning and internet of things iot for real time image classification in smart agriculture',\n",
       " 'computer vision based smart agriculture storage with quality and quantity analysis and recipe suggestion',\n",
       " 'ultrasonic sensor based canopy height measurement and root depth estimation',\n",
       " 'a review on leaf based plant disease detection systems using machine learning',\n",
       " 'a real time iot and image processing based weeds classification system for selective herbicide',\n",
       " 'deep learning based detection of plant nutrient deficiency symptom and design of multi layer greenhouse system',\n",
       " 'iot for agricultural information generation and recommendation a deep learning based approach',\n",
       " 'end to end circular economy in onion farming with the application of artificial intelligence and internet of things',\n",
       " 'gardenpro android mobile application for home garden management using machine learning augmented reality and iot',\n",
       " 'energy efficient quantum informed ant colony optimization algorithms for industrial internet of things',\n",
       " 'research on energy saving efficiency of the air conditioning host in agricultural plant bacteria room',\n",
       " 'agro mate a virtual assister to maximize crop yield in agriculture sector',\n",
       " 'a farmer friendly connected iot platform for predicting crop suitability based on farmland assessment',\n",
       " 'enhancing farmers productivity through iot and machine learning a state of the art review of recent trends in africa',\n",
       " 'multi sensor based environmental forecasting system for smart durian farms in tropical regions',\n",
       " 'design of an embedded machine learning based system for an environmental friendly crop prediction using a sustainable soil fertility management',\n",
       " 'data driven decision making for smart cultivation',\n",
       " 'agro mate a virtual assister to maximize crop yield in agriculture sector',\n",
       " 'crop development with data driven approach towards sustainable agriculture lifting the achievements and opportunities of collaborative research between ciat and japan',\n",
       " 'automatic detection and monitoring of insect pests a review',\n",
       " 'on farm welfare monitoring system for goats based on internet of things and machine learning',\n",
       " 'decision tree based bok choy growth prediction model for smart farm',\n",
       " 'iot and machine learning based approaches for real time environment parameters monitoring in agriculture an empirical review',\n",
       " 'design a novel iot based agriculture automation using machine learning',\n",
       " 'the early warning and inspection system for intelligent greenhouse based on internet of things',\n",
       " 'real time assessment of plant photosynthetic pigment contents with an artificial intelligence approach in a mobile application',\n",
       " 'field robots for intelligent farms inhering features from industry',\n",
       " 'ontology based crop production using natural language processing with iot applications using deep learning approach',\n",
       " 'low cost smart camera system for water stress detection in crops',\n",
       " 'examination of image features considering short term changes in plant water stress',\n",
       " 'the swamp farmer app for iot based smart water status monitoring and irrigation control',\n",
       " 'artificial intelligence based model for drought prediction and forecasting',\n",
       " 'water spray detection for smart irrigation systems with mask r cnn and uav footage',\n",
       " 'a review on drone based data solutions for cereal crops',\n",
       " 'iot based smart watering system towards improving the efficiency of agricultural irrigation',\n",
       " 'fisheye based smart control system for autonomous uav operation',\n",
       " 'a low cost iot and deep learning enabled precision agriculture support system for indian diverse environment',\n",
       " 'an iot based predictive analytics for estimation of rainfall for irrigation',\n",
       " 'an integrated application of iot based wsn in the field of indian agriculture system using hybrid optimization technique and machine learning',\n",
       " 'intelligent iot aided early sound detection of red palmweevils',\n",
       " 'an iot and machine learning based crop prediction system for precision agriculture',\n",
       " 'low power dsme based communication and on board processing in uav for smart agriculture',\n",
       " 'an effective investigation on advanced agriculture sensors used in poly house automation for smart agriculture using 5g iot technology',\n",
       " 'an intelligent iot based data analytics for freshwater recirculating aquaculture system',\n",
       " 'applying machine learning on sensor data for irrigation recommendations revealing the agronomist s tacit knowledge',\n",
       " 'multi layered architecture for soil moisture prediction in agriculture 4 0',\n",
       " 'real time monitoring of soil nutrient analysis using wsn',\n",
       " 'user centered design of agriculture automation systems using internet of things paradigm',\n",
       " 'precision agriculture for pest management on enhanced acoustic signal using improved mel frequency cepstrum coefficient and deep learning',\n",
       " 'internet of things based reliable real time disease monitoring of poultry farming imagery analytics',\n",
       " 'smart irrigation and intrusions detection in agricultural fields using i o t',\n",
       " 'data driven approach for farm re modeling using prediction analytics',\n",
       " 'color based sorting system for agriculture applications',\n",
       " 'evja intelligent support system for precision agriculture',\n",
       " 'self organizing maps applied to soil conservation in mediterranean olive groves',\n",
       " 'the development of iot wetting front detector iot wfd for efficient irrigation management and decision support system',\n",
       " 'technology based streamlined agro farming techniques',\n",
       " 'dynamic iot management system using k means machine learning for precision agriculture applications',\n",
       " 'towards a smart farming platform from iot based crop sensing to data analytics',\n",
       " 'an automated approach to weed out prosopis juliflora karuvelam trees',\n",
       " 'pervasive agriculture iot enabled greenhouse for plant growth control',\n",
       " 'moving toward self learning closed plant production systems',\n",
       " 'design of real time monitoring system on raw milk transport process',\n",
       " 'a smart precision agriculture platform for linear irrigation systems',\n",
       " 'smart hydroponic farming with iot based climate and nutrient manipulation system',\n",
       " 'uav enabled wsn and communication framework for data security acquisition and monitoring on large farms a panacea for real time precision agriculture',\n",
       " 'iot enhanced livestock monitoring for animal health and productivity',\n",
       " 'an iot based soil moisture management system for precision agriculture real time monitoring and automated irrigation control',\n",
       " 'plantae an iot based predictive platform for precision agriculture',\n",
       " 'precision agriculture monitoring system using green internet of things g iot',\n",
       " 'predictive models for lettuce quality from internet of things based hydroponic farm',\n",
       " 'fmd and mastitis disease detection in cows using internet of thingh iot',\n",
       " 'ai powered image based tomato leaf disease detection',\n",
       " 'a soil quality analysis and an efficient irrigation system using agro sensors',\n",
       " 'precision agriculture using fog edge computing',\n",
       " 'digitalization of agri cooperatives in the smart agriculture context proposal of a digital diagnosis tool',\n",
       " 'monitoring of ocimum basilicum seeds growth with image processing and fuzzy logic techniques based on cloudino iot and fiware platforms the monitoring systems on the climatic conditions in the agriculture industry are increasingly useful and applicable since they allow to improve the processes of growth in the plants this paper develops a monitoring system for the germination of ocimum basilicum seeds using image processing and fuzzy logic techniques besides the system is based on the cloudino iot and fiware platforms as a real time monitoring alternative therefore temperature and humidity parameters can be observed in real time on the one hand the system controls the variables through fuzzy control techniques and image processing monitors the germination in the radicle seed and on the other context data is used by the cloudino iot and fiware platforms on the other hand the use of these combined open source platforms allows cloud computing to be enabled to maintain specify analyze the data and automate the environmental parameters that allow maintaining temperature and humidity levels at optimal levels to create a favorable germination environment the performance of the set point control is compared with experimental results and the function interconnection of the iot devices',\n",
       " 'tied bilateral learning for aquaculture image enhancement aquaculture plays a critical role in food security and nutrition strategies the application of intelligent aquaculture technology has shown promising performance in improving aquaculture productivity and increasing economic benefits with its rapid advancement and good prospects however degraded underwater images have hampered the existing computer vision applications in intelligent aquaculture to this end a novel tied bilateral learning network is proposed for aquaculture image enhancement tbaie which improves the degraded aquaculture images to meet the requirements of various computer vision applications in aquaculture concretely a novel multiple tied guidance module is designed to generate a multi channel feature map and capture long range features based on input then a feature fusion module is introduced with a novel tied attention block to blend the feature and suppress noise with a low computational resource experimental results demonstrate that the proposed tbaie can improve the quality of aquaculture images and remove color distortion moreover tbaie can achieve state of the art in quantitative and qualitative metrics and meet the practical requirements of different aquaculture vision tasks',\n",
       " 'a framework for multi event data collection using unmanned aerial vehicle aided internet of things in smart agriculture',\n",
       " 'precision agriculture iot based system for real time monitoring of paddy growth',\n",
       " 'iot based water harvesting moisture monitoring and crop monitoring system for precision agriculture',\n",
       " 'development of high quality crops using optimized machine learning in smart agriculture environment',\n",
       " 'agriculture informatics and communication paradigm of e governance and drone technology for crop monitoring',\n",
       " 'a user friendly aiot based crop recommendation system uacr concept and architecture',\n",
       " 'multi node monitoring of jujube diseases and pests based on internet of things technology',\n",
       " 'design and implementation of iot enabled intelligent irrigation system using machine learning',\n",
       " 'a sensing without sensors system for soil moisture estimation',\n",
       " 'a state of the art survey of machine learning in the agricultural sector',\n",
       " 'an optimal multi uav deployment model for uav assisted smart farming',\n",
       " 'an edge cloud infrastructure for weed detection in precision agriculture',\n",
       " 'smart agriculture using bio sensors and ai',\n",
       " 'ochratoxin a growth probability estimation in wine production using ai powered iot devices',\n",
       " 'a service based joint model used for distributed learning application for smart agriculture',\n",
       " 'silab a neural network based precision agriculture system for siling labuyo capsicum frutescens',\n",
       " 'a review of convolutional neural network based approaches for disease detection in plants',\n",
       " 'a monitoring system for cattle behavior detection using yolo v8 in iot environments',\n",
       " 'a federated learning based crop yield prediction for agricultural production risk management',\n",
       " 'an iot based real time monitoring system for viticulture to minimize energy consumption',\n",
       " 'semi supervised transformation and deep embedding based anomaly identification for agricultural internet of things',\n",
       " 'nft based hydroponic automated control using adaptive network based fuzzy inference system',\n",
       " 'fostering smart agriculture using vision based ai for livestock managing',\n",
       " 'towards building a data driven framework for climate neutral smart dairy farming practices',\n",
       " 'agrovision advancing agricultural insights with image based deep learning techniques',\n",
       " 'agro vision iot enabled crop pest recognition system based on vgg 16',\n",
       " 'reinforcement learning based deadline and battery aware offloading in smart farm iot uav networks',\n",
       " 'near optimal energy management for energy harvesting iot devices using imitation learning',\n",
       " 'an ai based system for monitoring behavior and growth of pigs',\n",
       " 'iot and machine learning based systems for predicting cattle health status for precision livestock farming',\n",
       " 'deep reinforcement learning for task offloading in uav aided smart farm networks',\n",
       " 'toward autonomous farming a novel scheme based on learning to prediction and optimization for smart greenhouse environment control',\n",
       " 'implementing ai powered chatbots in agriculture for optimization and efficiency',\n",
       " 'a preliminary lightweight random forest approach based image classification for plant disease detection',\n",
       " 'iot enabled intelligent farming system with integrated tracking and water gathering plan',\n",
       " 'early flood monitoring and detection system with a machine learning s neural network technique and iot platform',\n",
       " 'deep learning based method for detecting anomalies of operating equipment dynamically in livestock farms',\n",
       " 'trajectory design for multi uav assisted data collection a multi agent deep reinforcement learning approach',\n",
       " 'fuzzy classification of color carrots dacus carota using raspberry pi towards farming 4 0',\n",
       " 'the effect of beta carotene contain in the pumpkin using iot technology in polyhouse',\n",
       " 'an iot based dam water level monitoring and alerting system',\n",
       " 'potato leaf disease detection using dense net cnn',\n",
       " 'machine learning based grain moisture estimation for real time monitoring of high temperature paddy drying silo',\n",
       " 'image based sensor for on tree automatic color tracking in pomegranate orchards',\n",
       " 'attack resistant energy adaptive monitoring for smart farms uncertainty aware deep reinforcement learning approach',\n",
       " 'a case study on non invasive plant health diagnosis using multi view stereo spectral imaging',\n",
       " 'thermo graphic camera based e iot enabled architecture for smart poultry farm',\n",
       " 'design of poultry farm disease detection system based on k nearest neighbor algorithm',\n",
       " 'web based ai iot multi classifiers model of iris images in real live farm field',\n",
       " 'detection and interpretation of transplanted positions using drone s eye view images for rice paddies',\n",
       " 'an innovative method for paddy yield prediction based on dcnn elm approach',\n",
       " 'site specific crop management',\n",
       " 'federated learning based uavs for the diagnosis of plant diseases',\n",
       " 'corn grain yield prediction using uav based high spatiotemporal resolution multispectral imagery',\n",
       " 'multi variant analysis of climatic conditions and soil rainfall with best crop prediction',\n",
       " 'implementation of a prototype iot based system for monitoring the health behavior and stress of cows',\n",
       " 'a price index insurance strategy for wheat and corn based on boosted hp filter',\n",
       " 'deep cost sensitive learning for wheat frost detection',\n",
       " 'iot enabled smart solution for rice disease detection yield prediction and remediation',\n",
       " 'tackling food insecurity using remote sensing and machine learning based crop yield prediction',\n",
       " 'machine learning based acoustic repellent system for protecting crops against wild animal attacks',\n",
       " 'paddy diseases multi class classification using cnn variants',\n",
       " 'harvestgo a versatile weed identifier using ai',\n",
       " 'ai driven pheno parenting a deep learning based plant phenotyping trait analysis model on a novel soilless farming dataset',\n",
       " 'agricultural pest super resolution and identification with attention enhanced residual and dense fusion generative and adversarial network',\n",
       " 'vgg19 based transfer learning for rice plant illness detection',\n",
       " 'survey on weeding tools equipment ai iot robots with recent advancements',\n",
       " 'design and analysis of iot based aquarium monitoring system for guppy fish habitats',\n",
       " 'a convex hull based feature descriptor for learning tree species classification from als point clouds',\n",
       " 'detection and quantitative prediction of diplocarpon earlianum infection rate in strawberry leaves using population based recurrent neural network',\n",
       " 'analysis and detection of orange images based on improved faster r cnn algorithm and feature data analysis',\n",
       " 'an iot based pest detection and alert system for farmers using cnn lstm approach',\n",
       " 'aiot cloud integrated smart livestock surveillance via assembling deep networks with considering robustness and semantics availability',\n",
       " 'cognition in uav aided 5g and beyond communications a survey',\n",
       " 'soil macro nutrients detection crop and fertilizer recommendation with irrigation system',\n",
       " 'rbd aiiot rice blasts detection combining ai iot',\n",
       " 'smart iot based aquarium monitoring system on anabas testudineus habitat using nodemcu and blynk platform',\n",
       " 'development of light emitting grid panel for fish growth in indoor aquaculture farm',\n",
       " 'cnn models for identification of macro nutrient deficiency in onion leaves allium cepa l',\n",
       " 'dcnn ga a deep neural net architecture for navigation of uav in indoor environment',\n",
       " 'transformative solar powered automation for sustainable farming and post harvest operations',\n",
       " 'web based framework for identifying plant leaf diseases',\n",
       " 'a triggerless backdoor attack and defense mechanism for intelligent task offloading in multi uav systems',\n",
       " 'employing simulators for collision free autonomous uav navigation',\n",
       " 'sense it an aquaculture specific autonomous data acquisition and monitoring system',\n",
       " 'a survey of physical layer aided uav security',\n",
       " 'azolla crop growing through iot by using arm cortex m0',\n",
       " 'an innovative method for detection of insect based on mask r cnn approach',\n",
       " 'low carbon jujube moisture content detection based on spectral selection and reconstruction',\n",
       " 'improved kiwifruit detection using pre trained vgg16 with rgb and nir information fusion',\n",
       " 'automated rice panicle blast disease severity classification using hybrid cnn lstm model',\n",
       " 'iot based monitoring system for oyster mushroom farming',\n",
       " 'hybrid pump hydro photo voltaic system for agriculture applications',\n",
       " 'estimating fish length using mask region based convolutional neural networks',\n",
       " 'artreeficial an ai tree controlling spotted lanternfly populations using computer vision and dynamic response',\n",
       " 'dairy goat image generation based on improved self attention generative adversarial networks',\n",
       " 'development of a mobile app for early warnings in aquaculture farms identification of end user needs',\n",
       " 'aoi aware energy efficient sfc in uav aided smart agriculture using asynchronous federated learning',\n",
       " 'cloud fog edge computing in smart agriculture in the era of drones a systematic survey',\n",
       " 'uav assisted multi access edge computing system an energy efficient resource management framework',\n",
       " 'an iot based weather monitoring system for upcountry farming in sri lanka',\n",
       " 'agristick an iot enabled agricultural appliance to measure growth of jackfruit using 2 axis joystick',\n",
       " 'intelligent irrigation management an iot driven approach with real time data integration',\n",
       " 'iot based precision agri bot',\n",
       " 'a fog based smart agriculture system to detect animal intrusion',\n",
       " 'advancing cattle welfare ultra low power health monitoring at the edge']"
      ]
     },
     "execution_count": 279,
     "metadata": {},
     "output_type": "execute_result"
    }
   ],
   "source": [
    "unmatched_entries[900:]"
   ]
  }
 ],
 "metadata": {
  "kernelspec": {
   "display_name": "Python 3 (ipykernel)",
   "language": "python",
   "name": "python3"
  },
  "language_info": {
   "codemirror_mode": {
    "name": "ipython",
    "version": 3
   },
   "file_extension": ".py",
   "mimetype": "text/x-python",
   "name": "python",
   "nbconvert_exporter": "python",
   "pygments_lexer": "ipython3",
   "version": "3.11.8"
  }
 },
 "nbformat": 4,
 "nbformat_minor": 5
}
