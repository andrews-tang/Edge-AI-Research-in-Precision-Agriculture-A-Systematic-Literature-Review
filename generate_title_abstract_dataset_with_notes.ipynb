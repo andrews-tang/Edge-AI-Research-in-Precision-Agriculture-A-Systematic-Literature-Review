{
 "cells": [
  {
   "cell_type": "code",
   "execution_count": 1,
   "id": "dbe3163a-1266-4d1e-bea7-3cb92b646789",
   "metadata": {},
   "outputs": [],
   "source": [
    "import bibtexparser\n",
    "from bibtexparser.bparser import BibTexParser\n",
    "from bibtexparser.customization import convert_to_unicode\n",
    "import pandas as pd\n",
    "import re"
   ]
  },
  {
   "cell_type": "code",
   "execution_count": 6,
   "id": "5335fc6f-703a-4367-97a0-78872baaf8bc",
   "metadata": {},
   "outputs": [],
   "source": [
    "main_dir = \"/home/jovyan/work/Projects/Edge-AI-Research-Title-Abstract-Screening/data/\"\n",
    "\n",
    "train_val_bib_file_dir = main_dir + \"manual_screening_phase2.bib\"\n",
    "eval_bib_file_dir = main_dir + \"Testing_set_phase2.bib\"\n",
    "\n",
    "train_dataset_dir = main_dir + \"title_abstract_train_val_dataset.csv\"\n",
    "eval_dataset_dir = main_dir + \"title_abstract_eval_dataset.csv\""
   ]
  },
  {
   "cell_type": "code",
   "execution_count": 3,
   "id": "7b839ec3-7646-4bde-b080-c1501613588c",
   "metadata": {},
   "outputs": [],
   "source": [
    "def parse_bib_file_to_csv(file_path, csv_path):\n",
    "    with open(file_path, encoding='utf-8') as bibtex_file:\n",
    "        parser = BibTexParser(common_strings=True)\n",
    "        bib_database = bibtexparser.load(bibtex_file, parser=parser)\n",
    "\n",
    "    data = []\n",
    "\n",
    "    for entry in bib_database.entries:\n",
    "        # Combine the title and abstract into one feature\n",
    "        title = entry.get('title', '').replace('{', '').replace('}', '').replace('\\n', ' ').strip()\n",
    "        abstract = entry.get('abstract', '').replace('{', '').replace('}', '').replace('\\n', ' ').strip()\n",
    "        text_feature = f\"{title} {abstract}\".strip()\n",
    "\n",
    "        annote = entry.get('annote', '').strip().lower()\n",
    "        label = 1 if 'yes' in annote else 0\n",
    "        \n",
    "        data.append([text_feature, label])\n",
    "\n",
    "    df = pd.DataFrame(data, columns=['Title_and_Abstract', 'Accepted_for_Full_Text'])\n",
    "    \n",
    "    # Save the dataframe to a csv file\n",
    "    df.to_csv(csv_path, index=False)\n",
    "    \n",
    "    return df\n"
   ]
  },
  {
   "cell_type": "code",
   "execution_count": 4,
   "id": "cbf32424-1869-4c2a-bd7d-d013b83a8482",
   "metadata": {},
   "outputs": [
    {
     "data": {
      "text/html": [
       "<div>\n",
       "<style scoped>\n",
       "    .dataframe tbody tr th:only-of-type {\n",
       "        vertical-align: middle;\n",
       "    }\n",
       "\n",
       "    .dataframe tbody tr th {\n",
       "        vertical-align: top;\n",
       "    }\n",
       "\n",
       "    .dataframe thead th {\n",
       "        text-align: right;\n",
       "    }\n",
       "</style>\n",
       "<table border=\"1\" class=\"dataframe\">\n",
       "  <thead>\n",
       "    <tr style=\"text-align: right;\">\n",
       "      <th></th>\n",
       "      <th>Title_and_Abstract</th>\n",
       "      <th>Accepted_for_Full_Text</th>\n",
       "    </tr>\n",
       "  </thead>\n",
       "  <tbody>\n",
       "    <tr>\n",
       "      <th>0</th>\n",
       "      <td>5G Technology in Smart Farming and Its Applica...</td>\n",
       "      <td>0</td>\n",
       "    </tr>\n",
       "    <tr>\n",
       "      <th>1</th>\n",
       "      <td>iSpatial Tech: GEO-AI-Enabled Solutions for Sm...</td>\n",
       "      <td>0</td>\n",
       "    </tr>\n",
       "    <tr>\n",
       "      <th>2</th>\n",
       "      <td>Optimizing Data Processing: A Comparative Stud...</td>\n",
       "      <td>0</td>\n",
       "    </tr>\n",
       "    <tr>\n",
       "      <th>3</th>\n",
       "      <td>Applications of Artificial Intelligence in IoT...</td>\n",
       "      <td>1</td>\n",
       "    </tr>\n",
       "    <tr>\n",
       "      <th>4</th>\n",
       "      <td>IoT in Smart Farming: A Review … equipped with...</td>\n",
       "      <td>1</td>\n",
       "    </tr>\n",
       "    <tr>\n",
       "      <th>5</th>\n",
       "      <td>High-Performance Computing Based Operating Sys...</td>\n",
       "      <td>0</td>\n",
       "    </tr>\n",
       "    <tr>\n",
       "      <th>6</th>\n",
       "      <td>Deepway: a deep learning waypoint estimator fo...</td>\n",
       "      <td>0</td>\n",
       "    </tr>\n",
       "    <tr>\n",
       "      <th>7</th>\n",
       "      <td>Energy-Efficient Memristor-Based Artificial In...</td>\n",
       "      <td>0</td>\n",
       "    </tr>\n",
       "    <tr>\n",
       "      <th>8</th>\n",
       "      <td>Empirical Analysis of Crop Yield Prediction Us...</td>\n",
       "      <td>1</td>\n",
       "    </tr>\n",
       "    <tr>\n",
       "      <th>9</th>\n",
       "      <td>Enhancing Depression Predictive Models: a Comp...</td>\n",
       "      <td>0</td>\n",
       "    </tr>\n",
       "  </tbody>\n",
       "</table>\n",
       "</div>"
      ],
      "text/plain": [
       "                                  Title_and_Abstract  Accepted_for_Full_Text\n",
       "0  5G Technology in Smart Farming and Its Applica...                       0\n",
       "1  iSpatial Tech: GEO-AI-Enabled Solutions for Sm...                       0\n",
       "2  Optimizing Data Processing: A Comparative Stud...                       0\n",
       "3  Applications of Artificial Intelligence in IoT...                       1\n",
       "4  IoT in Smart Farming: A Review … equipped with...                       1\n",
       "5  High-Performance Computing Based Operating Sys...                       0\n",
       "6  Deepway: a deep learning waypoint estimator fo...                       0\n",
       "7  Energy-Efficient Memristor-Based Artificial In...                       0\n",
       "8  Empirical Analysis of Crop Yield Prediction Us...                       1\n",
       "9  Enhancing Depression Predictive Models: a Comp...                       0"
      ]
     },
     "execution_count": 4,
     "metadata": {},
     "output_type": "execute_result"
    }
   ],
   "source": [
    "train_val_df = parse_bib_file_to_csv(train_val_bib_file_dir, train_dataset_dir)\n",
    "train_val_df.head(10)"
   ]
  },
  {
   "cell_type": "code",
   "execution_count": 7,
   "id": "d68b35b4-0b61-4a48-b09d-699b2c12a89d",
   "metadata": {},
   "outputs": [],
   "source": [
    "eval_df = parse_bib_file_to_csv(eval_bib_file_dir, eval_dataset_dir)"
   ]
  },
  {
   "cell_type": "code",
   "execution_count": 9,
   "id": "6004bf3d-89c1-4698-96c0-826b6059538d",
   "metadata": {},
   "outputs": [
    {
     "data": {
      "text/plain": [
       "'Influence of artificial intelligence (AI) on firm performance: the business value of AI-based transformation projects … Transformation: ADNOC and IBM are relying on cutting-edge AI to develop an automated … This case study highlights the advantages of AI in the field of food and agriculture. Note that the …'"
      ]
     },
     "execution_count": 9,
     "metadata": {},
     "output_type": "execute_result"
    }
   ],
   "source": [
    "eval_df['Title_and_Abstract'][0]"
   ]
  }
 ],
 "metadata": {
  "kernelspec": {
   "display_name": "Python 3 (ipykernel)",
   "language": "python",
   "name": "python3"
  },
  "language_info": {
   "codemirror_mode": {
    "name": "ipython",
    "version": 3
   },
   "file_extension": ".py",
   "mimetype": "text/x-python",
   "name": "python",
   "nbconvert_exporter": "python",
   "pygments_lexer": "ipython3",
   "version": "3.11.8"
  }
 },
 "nbformat": 4,
 "nbformat_minor": 5
}
