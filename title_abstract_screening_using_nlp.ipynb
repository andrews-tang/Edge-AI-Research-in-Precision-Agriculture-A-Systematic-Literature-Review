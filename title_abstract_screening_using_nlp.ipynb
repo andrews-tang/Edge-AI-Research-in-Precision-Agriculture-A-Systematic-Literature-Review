{
 "cells": [
  {
   "cell_type": "code",
   "execution_count": 62,
   "id": "5bca7405-22dc-43a1-b3c4-5aaf7b4059b1",
   "metadata": {},
   "outputs": [],
   "source": [
    "import os\n",
    "import re\n",
    "import torch\n",
    "import pandas as pd\n",
    "from tqdm import tqdm\n",
    "from sklearn.model_selection import train_test_split\n",
    "from torch.utils.data import DataLoader\n",
    "from torch.optim import AdamW\n",
    "from transformers import get_scheduler\n",
    "from transformers import DistilBertTokenizer, DistilBertForSequenceClassification"
   ]
  },
  {
   "cell_type": "code",
   "execution_count": 2,
   "id": "fb62d2e0-47e7-49a0-96aa-347aee8f387b",
   "metadata": {},
   "outputs": [],
   "source": [
    "saved_model_dir = \"./SavedModels/\""
   ]
  },
  {
   "cell_type": "code",
   "execution_count": 3,
   "id": "18300004-3972-4573-918e-7bb4461d7eae",
   "metadata": {},
   "outputs": [],
   "source": [
    "train_val_dataset = pd.read_csv(\"./data/title_abstract_train_val_dataset.csv\")\n",
    "eval_dataset = pd.read_csv(\"./data/title_abstract_eval_dataset.csv\")"
   ]
  },
  {
   "cell_type": "code",
   "execution_count": 4,
   "id": "583e23fa-ee76-47e9-89c0-9b286f1eb74e",
   "metadata": {},
   "outputs": [
    {
     "data": {
      "text/html": [
       "<div>\n",
       "<style scoped>\n",
       "    .dataframe tbody tr th:only-of-type {\n",
       "        vertical-align: middle;\n",
       "    }\n",
       "\n",
       "    .dataframe tbody tr th {\n",
       "        vertical-align: top;\n",
       "    }\n",
       "\n",
       "    .dataframe thead th {\n",
       "        text-align: right;\n",
       "    }\n",
       "</style>\n",
       "<table border=\"1\" class=\"dataframe\">\n",
       "  <thead>\n",
       "    <tr style=\"text-align: right;\">\n",
       "      <th></th>\n",
       "      <th>Title_and_Abstract</th>\n",
       "      <th>Accepted_for_Full_Text</th>\n",
       "    </tr>\n",
       "  </thead>\n",
       "  <tbody>\n",
       "    <tr>\n",
       "      <th>990</th>\n",
       "      <td>Guest Editorial: An End-to-End Machine Learnin...</td>\n",
       "      <td>0</td>\n",
       "    </tr>\n",
       "    <tr>\n",
       "      <th>991</th>\n",
       "      <td>Guest Editorial Special Issue on Privacy and S...</td>\n",
       "      <td>0</td>\n",
       "    </tr>\n",
       "    <tr>\n",
       "      <th>992</th>\n",
       "      <td>Guest Editorial Special Issue on Emerging Tren...</td>\n",
       "      <td>0</td>\n",
       "    </tr>\n",
       "    <tr>\n",
       "      <th>993</th>\n",
       "      <td>Guest Editorial Special Issue on Advanced Cogn...</td>\n",
       "      <td>0</td>\n",
       "    </tr>\n",
       "    <tr>\n",
       "      <th>994</th>\n",
       "      <td>Enhancing Smart Agriculture Scenarios with Low...</td>\n",
       "      <td>1</td>\n",
       "    </tr>\n",
       "    <tr>\n",
       "      <th>995</th>\n",
       "      <td>High Voltage Discharge Exhibits Severe Effect ...</td>\n",
       "      <td>0</td>\n",
       "    </tr>\n",
       "    <tr>\n",
       "      <th>996</th>\n",
       "      <td>Heterogeneous GNN-RL-Based Task Offloading for...</td>\n",
       "      <td>1</td>\n",
       "    </tr>\n",
       "    <tr>\n",
       "      <th>997</th>\n",
       "      <td>Optimized Data Fusion With Scheduled Rest Peri...</td>\n",
       "      <td>0</td>\n",
       "    </tr>\n",
       "    <tr>\n",
       "      <th>998</th>\n",
       "      <td>FarmEdge: A Unified Edge Computing Framework E...</td>\n",
       "      <td>1</td>\n",
       "    </tr>\n",
       "    <tr>\n",
       "      <th>999</th>\n",
       "      <td>5G Network: Architecture, Protocols, Challenge...</td>\n",
       "      <td>0</td>\n",
       "    </tr>\n",
       "  </tbody>\n",
       "</table>\n",
       "</div>"
      ],
      "text/plain": [
       "                                    Title_and_Abstract  Accepted_for_Full_Text\n",
       "990  Guest Editorial: An End-to-End Machine Learnin...                       0\n",
       "991  Guest Editorial Special Issue on Privacy and S...                       0\n",
       "992  Guest Editorial Special Issue on Emerging Tren...                       0\n",
       "993  Guest Editorial Special Issue on Advanced Cogn...                       0\n",
       "994  Enhancing Smart Agriculture Scenarios with Low...                       1\n",
       "995  High Voltage Discharge Exhibits Severe Effect ...                       0\n",
       "996  Heterogeneous GNN-RL-Based Task Offloading for...                       1\n",
       "997  Optimized Data Fusion With Scheduled Rest Peri...                       0\n",
       "998  FarmEdge: A Unified Edge Computing Framework E...                       1\n",
       "999  5G Network: Architecture, Protocols, Challenge...                       0"
      ]
     },
     "execution_count": 4,
     "metadata": {},
     "output_type": "execute_result"
    }
   ],
   "source": [
    "train_val_dataset.tail(10)"
   ]
  },
  {
   "cell_type": "code",
   "execution_count": 5,
   "id": "be8bb523-86a3-4310-9201-efb2c564421c",
   "metadata": {},
   "outputs": [
    {
     "data": {
      "text/html": [
       "<div>\n",
       "<style scoped>\n",
       "    .dataframe tbody tr th:only-of-type {\n",
       "        vertical-align: middle;\n",
       "    }\n",
       "\n",
       "    .dataframe tbody tr th {\n",
       "        vertical-align: top;\n",
       "    }\n",
       "\n",
       "    .dataframe thead th {\n",
       "        text-align: right;\n",
       "    }\n",
       "</style>\n",
       "<table border=\"1\" class=\"dataframe\">\n",
       "  <thead>\n",
       "    <tr style=\"text-align: right;\">\n",
       "      <th></th>\n",
       "      <th>Title_and_Abstract</th>\n",
       "      <th>Accepted_for_Full_Text</th>\n",
       "    </tr>\n",
       "  </thead>\n",
       "  <tbody>\n",
       "    <tr>\n",
       "      <th>0</th>\n",
       "      <td>Influence of artificial intelligence (AI) on f...</td>\n",
       "      <td>0</td>\n",
       "    </tr>\n",
       "    <tr>\n",
       "      <th>1</th>\n",
       "      <td>Software engineering approaches for tinyml bas...</td>\n",
       "      <td>0</td>\n",
       "    </tr>\n",
       "    <tr>\n",
       "      <th>2</th>\n",
       "      <td>Artificial intelligence in practice: how 50 su...</td>\n",
       "      <td>0</td>\n",
       "    </tr>\n",
       "    <tr>\n",
       "      <th>3</th>\n",
       "      <td>Industry 4.0: Industrial internet of things (I...</td>\n",
       "      <td>0</td>\n",
       "    </tr>\n",
       "    <tr>\n",
       "      <th>4</th>\n",
       "      <td>Artificial intelligence and biological misuse:...</td>\n",
       "      <td>0</td>\n",
       "    </tr>\n",
       "  </tbody>\n",
       "</table>\n",
       "</div>"
      ],
      "text/plain": [
       "                                  Title_and_Abstract  Accepted_for_Full_Text\n",
       "0  Influence of artificial intelligence (AI) on f...                       0\n",
       "1  Software engineering approaches for tinyml bas...                       0\n",
       "2  Artificial intelligence in practice: how 50 su...                       0\n",
       "3  Industry 4.0: Industrial internet of things (I...                       0\n",
       "4  Artificial intelligence and biological misuse:...                       0"
      ]
     },
     "execution_count": 5,
     "metadata": {},
     "output_type": "execute_result"
    }
   ],
   "source": [
    "eval_dataset.head(5)"
   ]
  },
  {
   "cell_type": "code",
   "execution_count": 6,
   "id": "1349e5ba-b8b3-47a1-8203-1bdaa1fbfcdd",
   "metadata": {},
   "outputs": [
    {
     "name": "stdout",
     "output_type": "stream",
     "text": [
      "<class 'pandas.core.frame.DataFrame'>\n",
      "RangeIndex: 1000 entries, 0 to 999\n",
      "Data columns (total 2 columns):\n",
      " #   Column                  Non-Null Count  Dtype \n",
      "---  ------                  --------------  ----- \n",
      " 0   Title_and_Abstract      996 non-null    object\n",
      " 1   Accepted_for_Full_Text  1000 non-null   int64 \n",
      "dtypes: int64(1), object(1)\n",
      "memory usage: 15.8+ KB\n"
     ]
    }
   ],
   "source": [
    "train_val_dataset.info()"
   ]
  },
  {
   "cell_type": "code",
   "execution_count": 7,
   "id": "2aa24134-50bb-4035-b813-1c6a246990c2",
   "metadata": {},
   "outputs": [],
   "source": [
    "eval_dataset.drop(\"Accepted_for_Full_Text\", axis = 1, inplace=True)"
   ]
  },
  {
   "cell_type": "code",
   "execution_count": 8,
   "id": "43b9b976-6234-47d8-a4ed-5d83e240d9c7",
   "metadata": {},
   "outputs": [
    {
     "data": {
      "text/html": [
       "<div>\n",
       "<style scoped>\n",
       "    .dataframe tbody tr th:only-of-type {\n",
       "        vertical-align: middle;\n",
       "    }\n",
       "\n",
       "    .dataframe tbody tr th {\n",
       "        vertical-align: top;\n",
       "    }\n",
       "\n",
       "    .dataframe thead th {\n",
       "        text-align: right;\n",
       "    }\n",
       "</style>\n",
       "<table border=\"1\" class=\"dataframe\">\n",
       "  <thead>\n",
       "    <tr style=\"text-align: right;\">\n",
       "      <th></th>\n",
       "      <th>Title_and_Abstract</th>\n",
       "    </tr>\n",
       "  </thead>\n",
       "  <tbody>\n",
       "    <tr>\n",
       "      <th>0</th>\n",
       "      <td>Influence of artificial intelligence (AI) on f...</td>\n",
       "    </tr>\n",
       "    <tr>\n",
       "      <th>1</th>\n",
       "      <td>Software engineering approaches for tinyml bas...</td>\n",
       "    </tr>\n",
       "    <tr>\n",
       "      <th>2</th>\n",
       "      <td>Artificial intelligence in practice: how 50 su...</td>\n",
       "    </tr>\n",
       "    <tr>\n",
       "      <th>3</th>\n",
       "      <td>Industry 4.0: Industrial internet of things (I...</td>\n",
       "    </tr>\n",
       "    <tr>\n",
       "      <th>4</th>\n",
       "      <td>Artificial intelligence and biological misuse:...</td>\n",
       "    </tr>\n",
       "    <tr>\n",
       "      <th>...</th>\n",
       "      <td>...</td>\n",
       "    </tr>\n",
       "    <tr>\n",
       "      <th>10498</th>\n",
       "      <td>Wireless Sensor Network Based Greenhouse Monit...</td>\n",
       "    </tr>\n",
       "    <tr>\n",
       "      <th>10499</th>\n",
       "      <td>agroString 2.0: A Distributed-Ledger based Sma...</td>\n",
       "    </tr>\n",
       "    <tr>\n",
       "      <th>10500</th>\n",
       "      <td>Performance of Routing Protocol for Low-Power ...</td>\n",
       "    </tr>\n",
       "    <tr>\n",
       "      <th>10501</th>\n",
       "      <td>Churn-Tolerant Leader Election Protocols</td>\n",
       "    </tr>\n",
       "    <tr>\n",
       "      <th>10502</th>\n",
       "      <td>Holistic Technologies for Managing Internet of...</td>\n",
       "    </tr>\n",
       "  </tbody>\n",
       "</table>\n",
       "<p>10503 rows × 1 columns</p>\n",
       "</div>"
      ],
      "text/plain": [
       "                                      Title_and_Abstract\n",
       "0      Influence of artificial intelligence (AI) on f...\n",
       "1      Software engineering approaches for tinyml bas...\n",
       "2      Artificial intelligence in practice: how 50 su...\n",
       "3      Industry 4.0: Industrial internet of things (I...\n",
       "4      Artificial intelligence and biological misuse:...\n",
       "...                                                  ...\n",
       "10498  Wireless Sensor Network Based Greenhouse Monit...\n",
       "10499  agroString 2.0: A Distributed-Ledger based Sma...\n",
       "10500  Performance of Routing Protocol for Low-Power ...\n",
       "10501           Churn-Tolerant Leader Election Protocols\n",
       "10502  Holistic Technologies for Managing Internet of...\n",
       "\n",
       "[10503 rows x 1 columns]"
      ]
     },
     "execution_count": 8,
     "metadata": {},
     "output_type": "execute_result"
    }
   ],
   "source": [
    "eval_dataset"
   ]
  },
  {
   "cell_type": "code",
   "execution_count": 9,
   "id": "04344038-0640-49e7-85ea-7902a0bba4f4",
   "metadata": {},
   "outputs": [
    {
     "data": {
      "text/plain": [
       "((800, 2), (200, 2))"
      ]
     },
     "execution_count": 9,
     "metadata": {},
     "output_type": "execute_result"
    }
   ],
   "source": [
    "train_data, val_data = train_test_split(train_val_dataset, test_size=0.2, random_state=42)\n",
    "train_data.shape, val_data.shape"
   ]
  },
  {
   "cell_type": "code",
   "execution_count": 10,
   "id": "c0377ef2-d7ce-4453-a4dd-0f7448f05fdf",
   "metadata": {},
   "outputs": [],
   "source": [
    "tokenizer = DistilBertTokenizer.from_pretrained('distilbert-base-uncased')"
   ]
  },
  {
   "cell_type": "code",
   "execution_count": 11,
   "id": "f3b4f60b-b90e-4e21-9d69-246845c072f7",
   "metadata": {},
   "outputs": [],
   "source": [
    "train_encodings = tokenizer(train_data['Title_and_Abstract'].astype(str).tolist(), truncation=True, padding=True, max_length=512)\n",
    "val_encodings = tokenizer(val_data['Title_and_Abstract'].astype(str).tolist(), truncation=True, padding=True, max_length=512)\n",
    "test_encodings = tokenizer(eval_dataset['Title_and_Abstract'].astype(str).tolist(), truncation=True, padding=True, max_length=512)"
   ]
  },
  {
   "cell_type": "code",
   "execution_count": 12,
   "id": "0a9b35f7-1dd8-48cf-957f-5ee80b5646fd",
   "metadata": {},
   "outputs": [],
   "source": [
    "class TrainValDataset(torch.utils.data.Dataset):\n",
    "    def __init__(self, encodings, labels):\n",
    "        self.encodings = encodings\n",
    "        self.labels = labels\n",
    "\n",
    "    def __getitem__(self, idx):\n",
    "        item = {key: torch.tensor(val[idx]) for key, val in self.encodings.items()}\n",
    "        item['labels'] = torch.tensor(self.labels[idx])\n",
    "        return item\n",
    "\n",
    "    def __len__(self):\n",
    "        return len(self.labels)\n",
    "\n",
    "\n",
    "\n",
    "class TestDataset(torch.utils.data.Dataset):\n",
    "    def __init__(self, encodings):\n",
    "        self.encodings = encodings\n",
    "\n",
    "    def __getitem__(self, idx):\n",
    "        return {key: torch.tensor(val[idx]) for key, val in self.encodings.items()}\n",
    "\n",
    "    def __len__(self):\n",
    "        return len(self.encodings['input_ids'])\n"
   ]
  },
  {
   "cell_type": "code",
   "execution_count": 13,
   "id": "ecdb6f97-794e-4dae-8e0f-1e36d9349086",
   "metadata": {},
   "outputs": [],
   "source": [
    "# Create the PyTorch datasets\n",
    "train_dataset = TrainValDataset(train_encodings, train_data['Accepted_for_Full_Text'].tolist())\n",
    "val_dataset = TrainValDataset(val_encodings, val_data['Accepted_for_Full_Text'].tolist())\n",
    "\n",
    "test_dataset = TestDataset(test_encodings)"
   ]
  },
  {
   "cell_type": "code",
   "execution_count": 14,
   "id": "d24c2454-5d73-48aa-b3af-d2047c13a0c3",
   "metadata": {},
   "outputs": [],
   "source": [
    "# Create DataLoaders for train, validation, and test\n",
    "train_dataloader = DataLoader(train_dataset, batch_size=16, shuffle=True)\n",
    "val_dataloader = DataLoader(val_dataset, batch_size=16, shuffle=False)\n",
    "test_dataloader = DataLoader(test_dataset, batch_size=16, shuffle=False)"
   ]
  },
  {
   "cell_type": "code",
   "execution_count": 15,
   "id": "a20eb1e2-d209-4ba1-b955-1af2000014b4",
   "metadata": {},
   "outputs": [
    {
     "name": "stderr",
     "output_type": "stream",
     "text": [
      "Some weights of DistilBertForSequenceClassification were not initialized from the model checkpoint at distilbert-base-uncased and are newly initialized: ['classifier.bias', 'classifier.weight', 'pre_classifier.bias', 'pre_classifier.weight']\n",
      "You should probably TRAIN this model on a down-stream task to be able to use it for predictions and inference.\n"
     ]
    }
   ],
   "source": [
    "model = DistilBertForSequenceClassification.from_pretrained('distilbert-base-uncased', num_labels=2)\n",
    "\n",
    "# Choose device available\n",
    "device = torch.device(\"cuda\" if torch.cuda.is_available() else \"cpu\")\n",
    "\n",
    "optimizer = AdamW(model.parameters(), lr=5e-5)"
   ]
  },
  {
   "cell_type": "code",
   "execution_count": 16,
   "id": "baf1e21c-81a8-4422-94e6-acde908e4c5d",
   "metadata": {},
   "outputs": [],
   "source": [
    "def train_and_validate(model, train_dataloader, val_dataloader, optimizer, device, epochs=3, saved_models_path=saved_model_dir):\n",
    "    \"\"\"Train and validate the model.\n",
    "    \n",
    "    Args:\n",
    "        model (torch.nn.Module): The model to train and validate.\n",
    "        train_dataloader (DataLoader): DataLoader for training data.\n",
    "        val_dataloader (DataLoader): DataLoader for validation data.\n",
    "        optimizer (torch.optim.Optimizer): Optimizer for the model.\n",
    "        device (torch.device): Device to run the model computation.\n",
    "        epochs (int): Number of epochs to train the model.\n",
    "        saved_models_path (str): Directory path where the model will be saved.\n",
    "    \"\"\"\n",
    "    model = model.to(device)\n",
    "    best_val_accuracy = 0\n",
    "\n",
    "    # Get the model name from its class\n",
    "    model_name = model.__class__.__name__\n",
    "\n",
    "    total_steps = len(train_dataloader) * epochs\n",
    "    scheduler = get_scheduler(\n",
    "        \"linear\",\n",
    "        optimizer=optimizer,\n",
    "        num_warmup_steps=0,\n",
    "        num_training_steps=total_steps\n",
    "    )\n",
    "\n",
    "    for epoch in range(epochs):\n",
    "        # Training Phase\n",
    "        model.train()\n",
    "        total_loss = 0\n",
    "        for batch in tqdm(train_dataloader, desc=f\"Epoch {epoch + 1}/{epochs} - Training\"):\n",
    "            batch = {k: v.to(device) for k, v in batch.items()}\n",
    "            outputs = model(**batch)\n",
    "            loss = outputs.loss\n",
    "\n",
    "            optimizer.zero_grad()\n",
    "            loss.backward()\n",
    "            optimizer.step()\n",
    "            scheduler.step()\n",
    "\n",
    "            total_loss += loss.item()\n",
    "\n",
    "        avg_train_loss = total_loss / len(train_dataloader)\n",
    "        print(f\"Average training loss: {avg_train_loss:.4f}\")\n",
    "\n",
    "        # Validation Phase\n",
    "        model.eval()\n",
    "        total_val_loss = 0\n",
    "        total_correct = 0\n",
    "        total_examples = 0\n",
    "\n",
    "        with torch.no_grad():\n",
    "            for batch in tqdm(val_dataloader, desc=f\"Epoch {epoch + 1}/{epochs} - Validation\"):\n",
    "                batch = {k: v.to(device) for k, v in batch.items()}\n",
    "                outputs = model(**batch)\n",
    "                loss = outputs.loss\n",
    "                total_val_loss += loss.item()\n",
    "\n",
    "                logits = outputs.logits\n",
    "                predictions = torch.argmax(logits, dim=1)\n",
    "                total_correct += (predictions == batch['labels']).sum().item()\n",
    "                total_examples += batch['labels'].size(0)\n",
    "\n",
    "        avg_val_loss = total_val_loss / len(val_dataloader)\n",
    "        val_accuracy = total_correct / total_examples\n",
    "        print(f\"Average validation loss: {avg_val_loss:.4f}\")\n",
    "        print(f\"Validation accuracy: {val_accuracy:.4f}\")\n",
    "\n",
    "        # Save the best model\n",
    "        if val_accuracy > best_val_accuracy:\n",
    "            best_val_accuracy = val_accuracy\n",
    "            # Construct the filename for saving the model\n",
    "            save_path = os.path.join(saved_models_path, f\"{model_name}_best_model.pth\")\n",
    "            torch.save(model.state_dict(), save_path)\n",
    "            print(f\"Saved improved model at {save_path}\")"
   ]
  },
  {
   "cell_type": "code",
   "execution_count": 17,
   "id": "867dc9ba-1f11-4ab3-a0f6-7aed7ed68741",
   "metadata": {},
   "outputs": [
    {
     "name": "stderr",
     "output_type": "stream",
     "text": [
      "Epoch 1/10 - Training: 100%|██████████| 50/50 [00:24<00:00,  2.07it/s]\n"
     ]
    },
    {
     "name": "stdout",
     "output_type": "stream",
     "text": [
      "Average training loss: 0.4820\n"
     ]
    },
    {
     "name": "stderr",
     "output_type": "stream",
     "text": [
      "Epoch 1/10 - Validation: 100%|██████████| 13/13 [00:02<00:00,  6.32it/s]\n"
     ]
    },
    {
     "name": "stdout",
     "output_type": "stream",
     "text": [
      "Average validation loss: 0.3848\n",
      "Validation accuracy: 0.8050\n",
      "Saved improved model at ./SavedModels/DistilBertForSequenceClassification_best_model.pth\n"
     ]
    },
    {
     "name": "stderr",
     "output_type": "stream",
     "text": [
      "Epoch 2/10 - Training: 100%|██████████| 50/50 [00:23<00:00,  2.08it/s]\n"
     ]
    },
    {
     "name": "stdout",
     "output_type": "stream",
     "text": [
      "Average training loss: 0.2898\n"
     ]
    },
    {
     "name": "stderr",
     "output_type": "stream",
     "text": [
      "Epoch 2/10 - Validation: 100%|██████████| 13/13 [00:02<00:00,  6.25it/s]\n"
     ]
    },
    {
     "name": "stdout",
     "output_type": "stream",
     "text": [
      "Average validation loss: 0.4318\n",
      "Validation accuracy: 0.7950\n"
     ]
    },
    {
     "name": "stderr",
     "output_type": "stream",
     "text": [
      "Epoch 3/10 - Training: 100%|██████████| 50/50 [00:24<00:00,  2.06it/s]\n"
     ]
    },
    {
     "name": "stdout",
     "output_type": "stream",
     "text": [
      "Average training loss: 0.1741\n"
     ]
    },
    {
     "name": "stderr",
     "output_type": "stream",
     "text": [
      "Epoch 3/10 - Validation: 100%|██████████| 13/13 [00:02<00:00,  6.20it/s]\n"
     ]
    },
    {
     "name": "stdout",
     "output_type": "stream",
     "text": [
      "Average validation loss: 0.4371\n",
      "Validation accuracy: 0.8400\n",
      "Saved improved model at ./SavedModels/DistilBertForSequenceClassification_best_model.pth\n"
     ]
    },
    {
     "name": "stderr",
     "output_type": "stream",
     "text": [
      "Epoch 4/10 - Training: 100%|██████████| 50/50 [00:24<00:00,  2.05it/s]\n"
     ]
    },
    {
     "name": "stdout",
     "output_type": "stream",
     "text": [
      "Average training loss: 0.0939\n"
     ]
    },
    {
     "name": "stderr",
     "output_type": "stream",
     "text": [
      "Epoch 4/10 - Validation: 100%|██████████| 13/13 [00:02<00:00,  6.14it/s]\n"
     ]
    },
    {
     "name": "stdout",
     "output_type": "stream",
     "text": [
      "Average validation loss: 0.4127\n",
      "Validation accuracy: 0.8700\n",
      "Saved improved model at ./SavedModels/DistilBertForSequenceClassification_best_model.pth\n"
     ]
    },
    {
     "name": "stderr",
     "output_type": "stream",
     "text": [
      "Epoch 5/10 - Training: 100%|██████████| 50/50 [00:24<00:00,  2.04it/s]\n"
     ]
    },
    {
     "name": "stdout",
     "output_type": "stream",
     "text": [
      "Average training loss: 0.0517\n"
     ]
    },
    {
     "name": "stderr",
     "output_type": "stream",
     "text": [
      "Epoch 5/10 - Validation: 100%|██████████| 13/13 [00:02<00:00,  6.17it/s]\n"
     ]
    },
    {
     "name": "stdout",
     "output_type": "stream",
     "text": [
      "Average validation loss: 0.5200\n",
      "Validation accuracy: 0.8150\n"
     ]
    },
    {
     "name": "stderr",
     "output_type": "stream",
     "text": [
      "Epoch 6/10 - Training: 100%|██████████| 50/50 [00:24<00:00,  2.04it/s]\n"
     ]
    },
    {
     "name": "stdout",
     "output_type": "stream",
     "text": [
      "Average training loss: 0.0217\n"
     ]
    },
    {
     "name": "stderr",
     "output_type": "stream",
     "text": [
      "Epoch 6/10 - Validation: 100%|██████████| 13/13 [00:02<00:00,  6.12it/s]\n"
     ]
    },
    {
     "name": "stdout",
     "output_type": "stream",
     "text": [
      "Average validation loss: 0.5418\n",
      "Validation accuracy: 0.8550\n"
     ]
    },
    {
     "name": "stderr",
     "output_type": "stream",
     "text": [
      "Epoch 7/10 - Training: 100%|██████████| 50/50 [00:24<00:00,  2.03it/s]\n"
     ]
    },
    {
     "name": "stdout",
     "output_type": "stream",
     "text": [
      "Average training loss: 0.0195\n"
     ]
    },
    {
     "name": "stderr",
     "output_type": "stream",
     "text": [
      "Epoch 7/10 - Validation: 100%|██████████| 13/13 [00:02<00:00,  6.11it/s]\n"
     ]
    },
    {
     "name": "stdout",
     "output_type": "stream",
     "text": [
      "Average validation loss: 0.6604\n",
      "Validation accuracy: 0.8450\n"
     ]
    },
    {
     "name": "stderr",
     "output_type": "stream",
     "text": [
      "Epoch 8/10 - Training: 100%|██████████| 50/50 [00:24<00:00,  2.03it/s]\n"
     ]
    },
    {
     "name": "stdout",
     "output_type": "stream",
     "text": [
      "Average training loss: 0.0135\n"
     ]
    },
    {
     "name": "stderr",
     "output_type": "stream",
     "text": [
      "Epoch 8/10 - Validation: 100%|██████████| 13/13 [00:02<00:00,  6.15it/s]\n"
     ]
    },
    {
     "name": "stdout",
     "output_type": "stream",
     "text": [
      "Average validation loss: 0.7645\n",
      "Validation accuracy: 0.8350\n"
     ]
    },
    {
     "name": "stderr",
     "output_type": "stream",
     "text": [
      "Epoch 9/10 - Training: 100%|██████████| 50/50 [00:24<00:00,  2.03it/s]\n"
     ]
    },
    {
     "name": "stdout",
     "output_type": "stream",
     "text": [
      "Average training loss: 0.0086\n"
     ]
    },
    {
     "name": "stderr",
     "output_type": "stream",
     "text": [
      "Epoch 9/10 - Validation: 100%|██████████| 13/13 [00:02<00:00,  6.15it/s]\n"
     ]
    },
    {
     "name": "stdout",
     "output_type": "stream",
     "text": [
      "Average validation loss: 0.6567\n",
      "Validation accuracy: 0.8550\n"
     ]
    },
    {
     "name": "stderr",
     "output_type": "stream",
     "text": [
      "Epoch 10/10 - Training: 100%|██████████| 50/50 [00:24<00:00,  2.03it/s]\n"
     ]
    },
    {
     "name": "stdout",
     "output_type": "stream",
     "text": [
      "Average training loss: 0.0094\n"
     ]
    },
    {
     "name": "stderr",
     "output_type": "stream",
     "text": [
      "Epoch 10/10 - Validation: 100%|██████████| 13/13 [00:02<00:00,  6.12it/s]"
     ]
    },
    {
     "name": "stdout",
     "output_type": "stream",
     "text": [
      "Average validation loss: 0.6374\n",
      "Validation accuracy: 0.8500\n"
     ]
    },
    {
     "name": "stderr",
     "output_type": "stream",
     "text": [
      "\n"
     ]
    }
   ],
   "source": [
    "train_and_validate(\n",
    "    model=model,\n",
    "    train_dataloader=train_dataloader,\n",
    "    val_dataloader=val_dataloader,\n",
    "    optimizer=optimizer,\n",
    "    device=device,\n",
    "    epochs=10\n",
    ")"
   ]
  },
  {
   "cell_type": "code",
   "execution_count": 24,
   "id": "3a4fd769-cfa0-483f-b908-dba590317d60",
   "metadata": {},
   "outputs": [],
   "source": [
    "def classify_papers(model, dataloader, device, tokenizer):\n",
    "    \"\"\"Classify papers using the trained model and return a DataFrame with texts and their classifications.\"\"\"\n",
    "    model.eval()\n",
    "    predictions = []\n",
    "    texts = []\n",
    "\n",
    "    with torch.no_grad():\n",
    "        for batch in dataloader:\n",
    "            inputs = {k: v.to(device) for k, v in batch.items() if k != 'labels'}\n",
    "            batch_texts = [tokenizer.decode(t, skip_special_tokens=True) for t in batch['input_ids']]\n",
    "            texts.extend(batch_texts)\n",
    "            outputs = model(**inputs)\n",
    "            logits = outputs.logits\n",
    "            predicted_labels = torch.argmax(logits, dim=1)\n",
    "            predictions.extend(predicted_labels.cpu().numpy())\n",
    "\n",
    "    # Create DataFrame\n",
    "    results_df = pd.DataFrame({\n",
    "        'Title_and_Abstract': texts,\n",
    "        'Accepted_for_Full_Text': predictions\n",
    "    })\n",
    "\n",
    "    return results_df"
   ]
  },
  {
   "cell_type": "code",
   "execution_count": 25,
   "id": "4a15dd61-24d0-40de-80e8-a83531dc7923",
   "metadata": {},
   "outputs": [
    {
     "name": "stderr",
     "output_type": "stream",
     "text": [
      "Some weights of DistilBertForSequenceClassification were not initialized from the model checkpoint at distilbert-base-uncased and are newly initialized: ['classifier.bias', 'classifier.weight', 'pre_classifier.bias', 'pre_classifier.weight']\n",
      "You should probably TRAIN this model on a down-stream task to be able to use it for predictions and inference.\n"
     ]
    },
    {
     "data": {
      "text/plain": [
       "DistilBertForSequenceClassification(\n",
       "  (distilbert): DistilBertModel(\n",
       "    (embeddings): Embeddings(\n",
       "      (word_embeddings): Embedding(30522, 768, padding_idx=0)\n",
       "      (position_embeddings): Embedding(512, 768)\n",
       "      (LayerNorm): LayerNorm((768,), eps=1e-12, elementwise_affine=True)\n",
       "      (dropout): Dropout(p=0.1, inplace=False)\n",
       "    )\n",
       "    (transformer): Transformer(\n",
       "      (layer): ModuleList(\n",
       "        (0-5): 6 x TransformerBlock(\n",
       "          (attention): MultiHeadSelfAttention(\n",
       "            (dropout): Dropout(p=0.1, inplace=False)\n",
       "            (q_lin): Linear(in_features=768, out_features=768, bias=True)\n",
       "            (k_lin): Linear(in_features=768, out_features=768, bias=True)\n",
       "            (v_lin): Linear(in_features=768, out_features=768, bias=True)\n",
       "            (out_lin): Linear(in_features=768, out_features=768, bias=True)\n",
       "          )\n",
       "          (sa_layer_norm): LayerNorm((768,), eps=1e-12, elementwise_affine=True)\n",
       "          (ffn): FFN(\n",
       "            (dropout): Dropout(p=0.1, inplace=False)\n",
       "            (lin1): Linear(in_features=768, out_features=3072, bias=True)\n",
       "            (lin2): Linear(in_features=3072, out_features=768, bias=True)\n",
       "            (activation): GELUActivation()\n",
       "          )\n",
       "          (output_layer_norm): LayerNorm((768,), eps=1e-12, elementwise_affine=True)\n",
       "        )\n",
       "      )\n",
       "    )\n",
       "  )\n",
       "  (pre_classifier): Linear(in_features=768, out_features=768, bias=True)\n",
       "  (classifier): Linear(in_features=768, out_features=2, bias=True)\n",
       "  (dropout): Dropout(p=0.2, inplace=False)\n",
       ")"
      ]
     },
     "execution_count": 25,
     "metadata": {},
     "output_type": "execute_result"
    }
   ],
   "source": [
    "model = DistilBertForSequenceClassification.from_pretrained(\n",
    "    \"distilbert-base-uncased\",\n",
    "    num_labels=2,  # Ensure this matches the setup during training\n",
    "    output_attentions=False,\n",
    "    output_hidden_states=False,\n",
    ")\n",
    "\n",
    "# Step 2: Load the saved model weights\n",
    "model_path = saved_model_dir+'DistilBertForSequenceClassification_best_model.pth'\n",
    "model.load_state_dict(torch.load(model_path))\n",
    "\n",
    "model.to(device)\n",
    "model.eval()"
   ]
  },
  {
   "cell_type": "code",
   "execution_count": 26,
   "id": "70cf1e25-848e-4c50-88f8-26886c54c842",
   "metadata": {},
   "outputs": [],
   "source": [
    "results_df = classify_papers(model, test_dataloader, device, tokenizer)"
   ]
  },
  {
   "cell_type": "code",
   "execution_count": 28,
   "id": "fa6c94d8-82ab-4efc-963e-deec732431b0",
   "metadata": {},
   "outputs": [
    {
     "data": {
      "text/html": [
       "<div>\n",
       "<style scoped>\n",
       "    .dataframe tbody tr th:only-of-type {\n",
       "        vertical-align: middle;\n",
       "    }\n",
       "\n",
       "    .dataframe tbody tr th {\n",
       "        vertical-align: top;\n",
       "    }\n",
       "\n",
       "    .dataframe thead th {\n",
       "        text-align: right;\n",
       "    }\n",
       "</style>\n",
       "<table border=\"1\" class=\"dataframe\">\n",
       "  <thead>\n",
       "    <tr style=\"text-align: right;\">\n",
       "      <th></th>\n",
       "      <th>Text</th>\n",
       "      <th>Label</th>\n",
       "    </tr>\n",
       "  </thead>\n",
       "  <tbody>\n",
       "    <tr>\n",
       "      <th>10493</th>\n",
       "      <td>fog based integrated nutrient management syste...</td>\n",
       "      <td>0</td>\n",
       "    </tr>\n",
       "    <tr>\n",
       "      <th>10494</th>\n",
       "      <td>an automated irrigation system for agriculture...</td>\n",
       "      <td>1</td>\n",
       "    </tr>\n",
       "    <tr>\n",
       "      <th>10495</th>\n",
       "      <td>using a compositional function hybridization o...</td>\n",
       "      <td>0</td>\n",
       "    </tr>\n",
       "    <tr>\n",
       "      <th>10496</th>\n",
       "      <td>a study on secure network slicing in 5g</td>\n",
       "      <td>0</td>\n",
       "    </tr>\n",
       "    <tr>\n",
       "      <th>10497</th>\n",
       "      <td>advancing cattle welfare : ultra low - power h...</td>\n",
       "      <td>1</td>\n",
       "    </tr>\n",
       "    <tr>\n",
       "      <th>10498</th>\n",
       "      <td>wireless sensor network based greenhouse monit...</td>\n",
       "      <td>0</td>\n",
       "    </tr>\n",
       "    <tr>\n",
       "      <th>10499</th>\n",
       "      <td>agrostring 2. 0 : a distributed - ledger based...</td>\n",
       "      <td>0</td>\n",
       "    </tr>\n",
       "    <tr>\n",
       "      <th>10500</th>\n",
       "      <td>performance of routing protocol for low - powe...</td>\n",
       "      <td>0</td>\n",
       "    </tr>\n",
       "    <tr>\n",
       "      <th>10501</th>\n",
       "      <td>churn - tolerant leader election protocols</td>\n",
       "      <td>0</td>\n",
       "    </tr>\n",
       "    <tr>\n",
       "      <th>10502</th>\n",
       "      <td>holistic technologies for managing internet of...</td>\n",
       "      <td>0</td>\n",
       "    </tr>\n",
       "  </tbody>\n",
       "</table>\n",
       "</div>"
      ],
      "text/plain": [
       "                                                    Text  Label\n",
       "10493  fog based integrated nutrient management syste...      0\n",
       "10494  an automated irrigation system for agriculture...      1\n",
       "10495  using a compositional function hybridization o...      0\n",
       "10496            a study on secure network slicing in 5g      0\n",
       "10497  advancing cattle welfare : ultra low - power h...      1\n",
       "10498  wireless sensor network based greenhouse monit...      0\n",
       "10499  agrostring 2. 0 : a distributed - ledger based...      0\n",
       "10500  performance of routing protocol for low - powe...      0\n",
       "10501         churn - tolerant leader election protocols      0\n",
       "10502  holistic technologies for managing internet of...      0"
      ]
     },
     "execution_count": 28,
     "metadata": {},
     "output_type": "execute_result"
    }
   ],
   "source": [
    "results_df.tail(10)"
   ]
  },
  {
   "cell_type": "code",
   "execution_count": 33,
   "id": "16e5dcff-1ef0-40aa-a2d7-68cd7dcce67d",
   "metadata": {},
   "outputs": [],
   "source": [
    "relevant_df = results_df[results_df['Accepted_for_Full_Text'] == 1]\n",
    "not_relevant_df = results_df[results_df['Accepted_for_Full_Text'] == 0]"
   ]
  },
  {
   "cell_type": "code",
   "execution_count": 43,
   "id": "a9e72c5d-8c73-467c-a98f-430ce251f703",
   "metadata": {},
   "outputs": [
    {
     "data": {
      "text/plain": [
       "((2261, 2), (8242, 2))"
      ]
     },
     "execution_count": 43,
     "metadata": {},
     "output_type": "execute_result"
    }
   ],
   "source": [
    "relevant_df.shape, not_relevant_df.shape"
   ]
  },
  {
   "cell_type": "code",
   "execution_count": 44,
   "id": "6a56ca6a-1903-4d85-b22b-c81e9d6734bf",
   "metadata": {},
   "outputs": [
    {
     "data": {
      "text/plain": [
       "12       novel method for crop growth tracking with dee...\n",
       "21       aiot in agriculture : safeguarding crops from ...\n",
       "30       conceptualizing a holistic smart dairy farming...\n",
       "41       plant disease detection : electronic system de...\n",
       "42       improving deep learning classifiers performanc...\n",
       "                               ...                        \n",
       "10484    temperature and humidity control algorithm for...\n",
       "10491                       iot based precision agri - bot\n",
       "10492    a fog - based smart agriculture system to dete...\n",
       "10494    an automated irrigation system for agriculture...\n",
       "10497    advancing cattle welfare : ultra low - power h...\n",
       "Name: Text, Length: 2261, dtype: object"
      ]
     },
     "execution_count": 44,
     "metadata": {},
     "output_type": "execute_result"
    }
   ],
   "source": [
    "relevant_df['Title_and_Abstract']"
   ]
  },
  {
   "cell_type": "code",
   "execution_count": 48,
   "id": "b6e17831-6180-4b56-8825-29d44ff51597",
   "metadata": {},
   "outputs": [
    {
     "name": "stdout",
     "output_type": "stream",
     "text": [
      "plant disease detection : electronic system design empowered with artificial intelligence … of diseases in agriculture. with the continuous development of deep learning from one hand, … a smart crop growth monitoring using edge artificial intelligence ( ai ) was developed in [ 7 ] …\n"
     ]
    }
   ],
   "source": [
    "print(relevant_df['Title_and_Abstract'][41])"
   ]
  },
  {
   "cell_type": "code",
   "execution_count": 69,
   "id": "513ef8d2-54ee-4082-8c92-321383af7ec0",
   "metadata": {},
   "outputs": [],
   "source": [
    "def extract_title(text):\n",
    "    # Handling different types of ellipsis and spacing issues\n",
    "    # Normalizing different ellipsis formats to a standard one\n",
    "    normalized_text = text.replace(' ... ', '...').replace('…', '...')\n",
    "    \n",
    "    # Splitting the text at the first occurrence of '...'\n",
    "    title = normalized_text.split('...')[0].strip()\n",
    "    return title\n",
    "\n",
    "\n",
    "def extract_titles(df):\n",
    "    \"\"\"Extract titles from text entries in the DataFrame using the updated function.\"\"\"\n",
    "    df['Title'] = df['Text'].apply(extract_title)\n",
    "    return df"
   ]
  },
  {
   "cell_type": "code",
   "execution_count": 70,
   "id": "fa0da97a-b1f1-4e5e-bced-1d84b3b70193",
   "metadata": {},
   "outputs": [
    {
     "name": "stderr",
     "output_type": "stream",
     "text": [
      "/tmp/ipykernel_439852/3666462932.py:13: SettingWithCopyWarning: \n",
      "A value is trying to be set on a copy of a slice from a DataFrame.\n",
      "Try using .loc[row_indexer,col_indexer] = value instead\n",
      "\n",
      "See the caveats in the documentation: https://pandas.pydata.org/pandas-docs/stable/user_guide/indexing.html#returning-a-view-versus-a-copy\n",
      "  df['Title'] = df['Text'].apply(extract_title)\n"
     ]
    },
    {
     "data": {
      "text/html": [
       "<div>\n",
       "<style scoped>\n",
       "    .dataframe tbody tr th:only-of-type {\n",
       "        vertical-align: middle;\n",
       "    }\n",
       "\n",
       "    .dataframe tbody tr th {\n",
       "        vertical-align: top;\n",
       "    }\n",
       "\n",
       "    .dataframe thead th {\n",
       "        text-align: right;\n",
       "    }\n",
       "</style>\n",
       "<table border=\"1\" class=\"dataframe\">\n",
       "  <thead>\n",
       "    <tr style=\"text-align: right;\">\n",
       "      <th></th>\n",
       "      <th>Text</th>\n",
       "      <th>Label</th>\n",
       "      <th>Title</th>\n",
       "    </tr>\n",
       "  </thead>\n",
       "  <tbody>\n",
       "    <tr>\n",
       "      <th>12</th>\n",
       "      <td>novel method for crop growth tracking with dee...</td>\n",
       "      <td>1</td>\n",
       "      <td>novel method for crop growth tracking with dee...</td>\n",
       "    </tr>\n",
       "    <tr>\n",
       "      <th>21</th>\n",
       "      <td>aiot in agriculture : safeguarding crops from ...</td>\n",
       "      <td>1</td>\n",
       "      <td>aiot in agriculture : safeguarding crops from ...</td>\n",
       "    </tr>\n",
       "    <tr>\n",
       "      <th>30</th>\n",
       "      <td>conceptualizing a holistic smart dairy farming...</td>\n",
       "      <td>1</td>\n",
       "      <td>conceptualizing a holistic smart dairy farming...</td>\n",
       "    </tr>\n",
       "    <tr>\n",
       "      <th>41</th>\n",
       "      <td>plant disease detection : electronic system de...</td>\n",
       "      <td>1</td>\n",
       "      <td>plant disease detection : electronic system de...</td>\n",
       "    </tr>\n",
       "    <tr>\n",
       "      <th>42</th>\n",
       "      <td>improving deep learning classifiers performanc...</td>\n",
       "      <td>1</td>\n",
       "      <td>improving deep learning classifiers performanc...</td>\n",
       "    </tr>\n",
       "    <tr>\n",
       "      <th>...</th>\n",
       "      <td>...</td>\n",
       "      <td>...</td>\n",
       "      <td>...</td>\n",
       "    </tr>\n",
       "    <tr>\n",
       "      <th>10484</th>\n",
       "      <td>temperature and humidity control algorithm for...</td>\n",
       "      <td>1</td>\n",
       "      <td>temperature and humidity control algorithm for...</td>\n",
       "    </tr>\n",
       "    <tr>\n",
       "      <th>10491</th>\n",
       "      <td>iot based precision agri - bot</td>\n",
       "      <td>1</td>\n",
       "      <td>iot based precision agri - bot</td>\n",
       "    </tr>\n",
       "    <tr>\n",
       "      <th>10492</th>\n",
       "      <td>a fog - based smart agriculture system to dete...</td>\n",
       "      <td>1</td>\n",
       "      <td>a fog - based smart agriculture system to dete...</td>\n",
       "    </tr>\n",
       "    <tr>\n",
       "      <th>10494</th>\n",
       "      <td>an automated irrigation system for agriculture...</td>\n",
       "      <td>1</td>\n",
       "      <td>an automated irrigation system for agriculture...</td>\n",
       "    </tr>\n",
       "    <tr>\n",
       "      <th>10497</th>\n",
       "      <td>advancing cattle welfare : ultra low - power h...</td>\n",
       "      <td>1</td>\n",
       "      <td>advancing cattle welfare : ultra low - power h...</td>\n",
       "    </tr>\n",
       "  </tbody>\n",
       "</table>\n",
       "<p>2261 rows × 3 columns</p>\n",
       "</div>"
      ],
      "text/plain": [
       "                                                    Text  Label  \\\n",
       "12     novel method for crop growth tracking with dee...      1   \n",
       "21     aiot in agriculture : safeguarding crops from ...      1   \n",
       "30     conceptualizing a holistic smart dairy farming...      1   \n",
       "41     plant disease detection : electronic system de...      1   \n",
       "42     improving deep learning classifiers performanc...      1   \n",
       "...                                                  ...    ...   \n",
       "10484  temperature and humidity control algorithm for...      1   \n",
       "10491                     iot based precision agri - bot      1   \n",
       "10492  a fog - based smart agriculture system to dete...      1   \n",
       "10494  an automated irrigation system for agriculture...      1   \n",
       "10497  advancing cattle welfare : ultra low - power h...      1   \n",
       "\n",
       "                                                   Title  \n",
       "12     novel method for crop growth tracking with dee...  \n",
       "21     aiot in agriculture : safeguarding crops from ...  \n",
       "30     conceptualizing a holistic smart dairy farming...  \n",
       "41     plant disease detection : electronic system de...  \n",
       "42     improving deep learning classifiers performanc...  \n",
       "...                                                  ...  \n",
       "10484  temperature and humidity control algorithm for...  \n",
       "10491                     iot based precision agri - bot  \n",
       "10492  a fog - based smart agriculture system to dete...  \n",
       "10494  an automated irrigation system for agriculture...  \n",
       "10497  advancing cattle welfare : ultra low - power h...  \n",
       "\n",
       "[2261 rows x 3 columns]"
      ]
     },
     "execution_count": 70,
     "metadata": {},
     "output_type": "execute_result"
    }
   ],
   "source": [
    "extract_titles(relevant_df)"
   ]
  },
  {
   "cell_type": "code",
   "execution_count": 73,
   "id": "9e517586-916d-4b1a-b971-c7da9798ac41",
   "metadata": {},
   "outputs": [
    {
     "name": "stderr",
     "output_type": "stream",
     "text": [
      "/tmp/ipykernel_439852/3666462932.py:13: SettingWithCopyWarning: \n",
      "A value is trying to be set on a copy of a slice from a DataFrame.\n",
      "Try using .loc[row_indexer,col_indexer] = value instead\n",
      "\n",
      "See the caveats in the documentation: https://pandas.pydata.org/pandas-docs/stable/user_guide/indexing.html#returning-a-view-versus-a-copy\n",
      "  df['Title'] = df['Text'].apply(extract_title)\n"
     ]
    },
    {
     "data": {
      "text/plain": [
       "12       novel method for crop growth tracking with dee...\n",
       "21       aiot in agriculture : safeguarding crops from ...\n",
       "30       conceptualizing a holistic smart dairy farming...\n",
       "41       plant disease detection : electronic system de...\n",
       "42       improving deep learning classifiers performanc...\n",
       "                               ...                        \n",
       "10484    temperature and humidity control algorithm for...\n",
       "10491                       iot based precision agri - bot\n",
       "10492    a fog - based smart agriculture system to dete...\n",
       "10494    an automated irrigation system for agriculture...\n",
       "10497    advancing cattle welfare : ultra low - power h...\n",
       "Name: Text, Length: 2261, dtype: object"
      ]
     },
     "execution_count": 73,
     "metadata": {},
     "output_type": "execute_result"
    }
   ],
   "source": [
    "extract_titles(relevant_df)['Text']"
   ]
  },
  {
   "cell_type": "code",
   "execution_count": 77,
   "id": "a44796db-b2ca-4945-b941-8b486f14d6b6",
   "metadata": {},
   "outputs": [
    {
     "name": "stderr",
     "output_type": "stream",
     "text": [
      "/tmp/ipykernel_439852/3666462932.py:13: SettingWithCopyWarning: \n",
      "A value is trying to be set on a copy of a slice from a DataFrame.\n",
      "Try using .loc[row_indexer,col_indexer] = value instead\n",
      "\n",
      "See the caveats in the documentation: https://pandas.pydata.org/pandas-docs/stable/user_guide/indexing.html#returning-a-view-versus-a-copy\n",
      "  df['Title'] = df['Text'].apply(extract_title)\n"
     ]
    },
    {
     "data": {
      "text/plain": [
       "'improving deep learning classifiers performance via preprocessing and class imbalance approaches in a plant disease detection pipeline … ( cea ) has progressively come to represent the growth of modern agriculture … edge computing devices in our future work to achieve real - time plant disease diagnosis using edge - ai …'"
      ]
     },
     "execution_count": 77,
     "metadata": {},
     "output_type": "execute_result"
    }
   ],
   "source": [
    "extract_titles(relevant_df)['Text'][42]"
   ]
  },
  {
   "cell_type": "code",
   "execution_count": 78,
   "id": "6cac69f0-dd20-463e-b095-4cfa62fd3ad0",
   "metadata": {},
   "outputs": [
    {
     "name": "stderr",
     "output_type": "stream",
     "text": [
      "/tmp/ipykernel_439852/3666462932.py:13: SettingWithCopyWarning: \n",
      "A value is trying to be set on a copy of a slice from a DataFrame.\n",
      "Try using .loc[row_indexer,col_indexer] = value instead\n",
      "\n",
      "See the caveats in the documentation: https://pandas.pydata.org/pandas-docs/stable/user_guide/indexing.html#returning-a-view-versus-a-copy\n",
      "  df['Title'] = df['Text'].apply(extract_title)\n"
     ]
    },
    {
     "data": {
      "text/plain": [
       "'improving deep learning classifiers performance via preprocessing and class imbalance approaches in a plant disease detection pipeline'"
      ]
     },
     "execution_count": 78,
     "metadata": {},
     "output_type": "execute_result"
    }
   ],
   "source": [
    "extract_titles(relevant_df)['Title'][42]"
   ]
  },
  {
   "cell_type": "code",
   "execution_count": null,
   "id": "0b1514ad-f416-47c9-b13e-6bfd96627a20",
   "metadata": {},
   "outputs": [],
   "source": []
  }
 ],
 "metadata": {
  "kernelspec": {
   "display_name": "Python 3 (ipykernel)",
   "language": "python",
   "name": "python3"
  },
  "language_info": {
   "codemirror_mode": {
    "name": "ipython",
    "version": 3
   },
   "file_extension": ".py",
   "mimetype": "text/x-python",
   "name": "python",
   "nbconvert_exporter": "python",
   "pygments_lexer": "ipython3",
   "version": "3.11.8"
  }
 },
 "nbformat": 4,
 "nbformat_minor": 5
}
